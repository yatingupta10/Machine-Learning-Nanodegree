{
 "cells": [
  {
   "cell_type": "markdown",
   "metadata": {
    "cell_style": "center"
   },
   "source": [
    " # Import Packages"
   ]
  },
  {
   "cell_type": "code",
   "execution_count": 124,
   "metadata": {
    "collapsed": false
   },
   "outputs": [],
   "source": [
    "import numpy as np\n",
    "import matplotlib.pyplot as plt\n",
    "import seaborn as sns\n",
    "import pandas as pd\n",
    "import cPickle\n",
    "sns.set(style='white',palette='muted',color_codes=True)\n",
    "sns.set_style(\"whitegrid\")\n",
    "%matplotlib inline"
   ]
  },
  {
   "cell_type": "markdown",
   "metadata": {},
   "source": [
    "# Unpickle data"
   ]
  },
  {
   "cell_type": "code",
   "execution_count": 125,
   "metadata": {
    "collapsed": true
   },
   "outputs": [],
   "source": [
    "#Functiion for unpickle the data.\n",
    "def unpickle(f):\n",
    "    fo = open(f,'rb')\n",
    "    d = cPickle.load(fo)\n",
    "    fo.close()\n",
    "    return d"
   ]
  },
  {
   "cell_type": "markdown",
   "metadata": {},
   "source": [
    "# Load CIFAR-10 dataset"
   ]
  },
  {
   "cell_type": "code",
   "execution_count": 126,
   "metadata": {
    "collapsed": true
   },
   "outputs": [],
   "source": [
    "def load_cifar10(dir):\n",
    "    train_data=[]\n",
    "    train_target=[]\n",
    "    \n",
    "    for i in range(1,6):\n",
    "        d = unpickle('%s/data_batch_%d' %(dir,i))\n",
    "        train_data.extend(d['data'])\n",
    "        train_target.extend(d['labels'])\n",
    "        \n",
    "    d = unpickle('%s/test_batch' %(dir))\n",
    "    test_data = d['data']\n",
    "    test_target = d['labels']\n",
    "    \n",
    "    train_data = np.array(train_data,dtype=np.float32)\n",
    "    train_target = np.array(train_target,dtype=np.int32)\n",
    "    test_data = np.array(test_data,dtype=np.float32)\n",
    "    test_target = np.array(test_target,dtype=np.int32)\n",
    "    \n",
    "    train_data /=255.0\n",
    "    test_data /=255.0\n",
    "    \n",
    "    return train_data,test_data,train_target,test_target"
   ]
  },
  {
   "cell_type": "code",
   "execution_count": 127,
   "metadata": {
    "collapsed": false
   },
   "outputs": [],
   "source": [
    "X_train,X_test,Y_train,Y_test = load_cifar10(\"cifar-10-batches-py\")"
   ]
  },
  {
   "cell_type": "code",
   "execution_count": 128,
   "metadata": {
    "collapsed": false
   },
   "outputs": [],
   "source": [
    "X_train = X_train.reshape((len(X_train),3,32,32))\n",
    "X_test = X_test.reshape((len(X_test),3,32,32))"
   ]
  },
  {
   "cell_type": "code",
   "execution_count": 131,
   "metadata": {
    "collapsed": false,
    "scrolled": true
   },
   "outputs": [
    {
     "data": {
      "text/plain": [
       "<matplotlib.text.Text at 0x117137950>"
      ]
     },
     "execution_count": 131,
     "metadata": {},
     "output_type": "execute_result"
    },
    {
     "data": {
      "image/png": "[encoded data removed]",
      "text/plain": [
       "<matplotlib.figure.Figure at 0x11b5e0590>"
      ]
     },
     "metadata": {},
     "output_type": "display_data"
    }
   ],
   "source": [
    "#Distribution of the training data\n",
    "sns.distplot(Y_train,kde=False,rug=False,color='b')\n",
    "plt.ylim(0,6000)\n",
    "plt.xticks(fontsize=15)\n",
    "plt.yticks(fontsize=15)\n",
    "plt.xlabel('Label',fontsize=15)\n",
    "plt.ylabel('Frequency',fontsize=15)\n",
    "#plt.title('Distribution of Training Data',fontsize=15)"
   ]
  },
  {
   "cell_type": "code",
   "execution_count": 132,
   "metadata": {
    "collapsed": false
   },
   "outputs": [
    {
     "data": {
      "text/plain": [
       "<matplotlib.text.Text at 0x11962bbd0>"
      ]
     },
     "execution_count": 132,
     "metadata": {},
     "output_type": "execute_result"
    },
    {
     "data": {
      "image/png": "[encoded data removed]",
      "text/plain": [
       "<matplotlib.figure.Figure at 0x11a65ec90>"
      ]
     },
     "metadata": {},
     "output_type": "display_data"
    }
   ],
   "source": [
    "#Distribution of the test data\n",
    "sns.distplot(Y_test,kde=False,rug=False,color='r')\n",
    "plt.ylim(0,1500)\n",
    "plt.xticks(fontsize=15)\n",
    "plt.yticks(fontsize=15)\n",
    "plt.xlabel('Label',fontsize=15)\n",
    "plt.ylabel('Frequency',fontsize=15)\n",
    "#plt.title(\"Distribution of Test Data\",fontsize=15)"
   ]
  },
  {
   "cell_type": "code",
   "execution_count": 133,
   "metadata": {
    "collapsed": false
   },
   "outputs": [],
   "source": [
    "from keras.utils import np_utils\n",
    "nb_classes =10\n",
    "\n",
    "#Change the target values into one-hot vectors \n",
    "y_train = np_utils.to_categorical(Y_train, nb_classes)\n",
    "y_test = np_utils.to_categorical(Y_test, nb_classes)"
   ]
  },
  {
   "cell_type": "markdown",
   "metadata": {},
   "source": [
    "# Import Deep Learning Library"
   ]
  },
  {
   "cell_type": "code",
   "execution_count": 54,
   "metadata": {
    "collapsed": false
   },
   "outputs": [],
   "source": [
    "from keras.models import Sequential\n",
    "from keras.layers import Dense,Activation,MaxPooling2D,Flatten\n",
    "from keras.layers import Convolution2D\n",
    "from keras.utils import np_utils\n",
    "from keras.optimizers import SGD,Adam\n",
    "from keras import backend as K\n",
    "from IPython.display import SVG\n",
    "from keras.utils.visualize_util import model_to_dot, plot"
   ]
  },
  {
   "cell_type": "markdown",
   "metadata": {},
   "source": [
    "# General parameters for the CNN models"
   ]
  },
  {
   "cell_type": "code",
   "execution_count": 267,
   "metadata": {
    "collapsed": true
   },
   "outputs": [],
   "source": [
    "batch_size = 32\n",
    "nb_classes = 10\n",
    "nb_epoch = 20\n",
    "#number of filters of cnn layer\n",
    "nb_filters=32"
   ]
  },
  {
   "cell_type": "markdown",
   "metadata": {},
   "source": [
    "# Model 1(1 Convolution layer and 2 Fully Connected layers)"
   ]
  },
  {
   "cell_type": "code",
   "execution_count": 55,
   "metadata": {
    "collapsed": false
   },
   "outputs": [],
   "source": [
    "model = Sequential()\n",
    "model.add(Convolution2D(nb_filters,3,3,border_mode='same',input_shape=(3,32,32)))\n",
    "model.add(Activation('relu'))\n",
    "model.add(MaxPooling2D(pool_size=(2,2)))\n",
    "model.add(Flatten())\n",
    "model.add(Dense(output_dim=512,activation='relu'))\n",
    "model.add(Dense(output_dim=nb_classes,input_dim=512))\n",
    "model.add(Activation('softmax'))\n",
    "\n",
    "sgd = SGD(lr=0.01, decay=1e-6, momentum=0.9, nesterov=True)\n",
    "model.compile(loss='categorical_crossentropy',\n",
    "              optimizer=sgd,\n",
    "              metrics=['accuracy'])\n",
    "\n"
   ]
  },
  {
   "cell_type": "code",
   "execution_count": 13,
   "metadata": {
    "collapsed": false
   },
   "outputs": [
    {
     "name": "stdout",
     "output_type": "stream",
     "text": [
      "Train on 50000 samples, validate on 10000 samples\n",
      "Epoch 1/20\n",
      "50000/50000 [==============================] - 95s - loss: 1.4619 - acc: 0.4775 - val_loss: 1.2305 - val_acc: 0.5572\n",
      "Epoch 2/20\n",
      "50000/50000 [==============================] - 95s - loss: 1.1170 - acc: 0.6062 - val_loss: 1.0650 - val_acc: 0.6281\n",
      "Epoch 3/20\n",
      "50000/50000 [==============================] - 95s - loss: 0.9253 - acc: 0.6735 - val_loss: 1.1298 - val_acc: 0.6021\n",
      "Epoch 4/20\n",
      "50000/50000 [==============================] - 95s - loss: 0.7498 - acc: 0.7370 - val_loss: 1.0474 - val_acc: 0.6420\n",
      "Epoch 5/20\n",
      "50000/50000 [==============================] - 94s - loss: 0.5863 - acc: 0.7949 - val_loss: 1.1067 - val_acc: 0.6545\n",
      "Epoch 6/20\n",
      "50000/50000 [==============================] - 94s - loss: 0.4272 - acc: 0.8526 - val_loss: 1.1732 - val_acc: 0.6518\n",
      "Epoch 7/20\n",
      "50000/50000 [==============================] - 95s - loss: 0.2856 - acc: 0.9029 - val_loss: 1.2828 - val_acc: 0.6526\n",
      "Epoch 8/20\n",
      "50000/50000 [==============================] - 96s - loss: 0.1945 - acc: 0.9346 - val_loss: 1.4605 - val_acc: 0.6593\n",
      "Epoch 9/20\n",
      "50000/50000 [==============================] - 95s - loss: 0.1385 - acc: 0.9543 - val_loss: 1.6069 - val_acc: 0.6545\n",
      "Epoch 10/20\n",
      "50000/50000 [==============================] - 96s - loss: 0.0960 - acc: 0.9692 - val_loss: 1.6943 - val_acc: 0.6564\n",
      "Epoch 11/20\n",
      "50000/50000 [==============================] - 95s - loss: 0.0785 - acc: 0.9754 - val_loss: 1.8204 - val_acc: 0.6654\n",
      "Epoch 12/20\n",
      "50000/50000 [==============================] - 95s - loss: 0.0700 - acc: 0.9781 - val_loss: 1.8392 - val_acc: 0.6605\n",
      "Epoch 13/20\n",
      "50000/50000 [==============================] - 95s - loss: 0.0472 - acc: 0.9861 - val_loss: 1.9582 - val_acc: 0.6605\n",
      "Epoch 14/20\n",
      "50000/50000 [==============================] - 95s - loss: 0.0452 - acc: 0.9864 - val_loss: 2.0268 - val_acc: 0.6607\n",
      "Epoch 15/20\n",
      "50000/50000 [==============================] - 97s - loss: 0.0304 - acc: 0.9911 - val_loss: 2.0086 - val_acc: 0.6685\n",
      "Epoch 16/20\n",
      "50000/50000 [==============================] - 97s - loss: 0.0213 - acc: 0.9947 - val_loss: 2.1312 - val_acc: 0.6695\n",
      "Epoch 17/20\n",
      "50000/50000 [==============================] - 96s - loss: 0.0143 - acc: 0.9963 - val_loss: 2.1058 - val_acc: 0.6769\n",
      "Epoch 18/20\n",
      "50000/50000 [==============================] - 96s - loss: 0.0063 - acc: 0.9988 - val_loss: 2.1202 - val_acc: 0.6794\n",
      "Epoch 19/20\n",
      "50000/50000 [==============================] - 96s - loss: 0.0021 - acc: 0.9998 - val_loss: 2.1460 - val_acc: 0.6818\n",
      "Epoch 20/20\n",
      "50000/50000 [==============================] - 97s - loss: 0.0012 - acc: 0.9998 - val_loss: 2.1775 - val_acc: 0.6848\n"
     ]
    }
   ],
   "source": [
    "#train the model\n",
    "res = model.fit(X_train,y_train,\n",
    "              batch_size=batch_size,\n",
    "              nb_epoch=nb_epoch,\n",
    "              validation_data=(X_test, y_test),\n",
    "              shuffle=True)"
   ]
  },
  {
   "cell_type": "code",
   "execution_count": 16,
   "metadata": {
    "collapsed": false
   },
   "outputs": [
    {
     "data": {
      "text/plain": [
       "<matplotlib.legend.Legend at 0x113433c90>"
      ]
     },
     "execution_count": 16,
     "metadata": {},
     "output_type": "execute_result"
    },
    {
     "data": {
      "image/png": "[encoded data removed]",
      "text/plain": [
       "<matplotlib.figure.Figure at 0x112537d90>"
      ]
     },
     "metadata": {},
     "output_type": "display_data"
    }
   ],
   "source": [
    "#Accuracy score of training and test data\n",
    "x=range(nb_epoch)\n",
    "plt.plot(x,res.history['acc'],label='Training')\n",
    "plt.plot(x,res.history['val_acc'],label='Test')\n",
    "plt.xlabel('Number of Epochs')\n",
    "plt.ylabel('Accuracy Score')\n",
    "plt.legend(loc='best')\n"
   ]
  },
  {
   "cell_type": "markdown",
   "metadata": {},
   "source": [
    "# Model 2 3 Convolutional layers & 2 Fully connected layers"
   ]
  },
  {
   "cell_type": "code",
   "execution_count": 38,
   "metadata": {
    "collapsed": true
   },
   "outputs": [],
   "source": [
    "model2 = Sequential()\n",
    "model2.add(Convolution2D(32,3,3,border_mode='same',input_shape=(3,32,32)))\n",
    "model2.add(Activation('relu'))\n",
    "model2.add(MaxPooling2D(pool_size=(2,2)))\n",
    "\n",
    "model2.add(Convolution2D(32,3,3,border_mode='same'))\n",
    "model2.add(Activation('relu'))\n",
    "model2.add(MaxPooling2D(pool_size=(2,2)))\n",
    "\n",
    "\n",
    "model2.add(Flatten())\n",
    "model2.add(Dense(output_dim=512,activation='relu'))\n",
    "model2.add(Dense(output_dim=10,input_dim=512))\n",
    "model2.add(Activation('softmax'))\n",
    "\n",
    "#Optimization by adam\n",
    "model2.compile(loss='categorical_crossentropy',\n",
    "              optimizer='Adam',\n",
    "              metrics=['accuracy'])\n",
    "\n"
   ]
  },
  {
   "cell_type": "code",
   "execution_count": 39,
   "metadata": {
    "collapsed": false
   },
   "outputs": [
    {
     "name": "stdout",
     "output_type": "stream",
     "text": [
      "Train on 50000 samples, validate on 10000 samples\n",
      "Epoch 1/20\n",
      "50000/50000 [==============================] - 129s - loss: 1.3398 - acc: 0.5215 - val_loss: 1.0708 - val_acc: 0.6226\n",
      "Epoch 2/20\n",
      "50000/50000 [==============================] - 155s - loss: 0.9800 - acc: 0.6555 - val_loss: 0.9467 - val_acc: 0.6710\n",
      "Epoch 3/20\n",
      "50000/50000 [==============================] - 160s - loss: 0.8083 - acc: 0.7157 - val_loss: 0.9013 - val_acc: 0.6848\n",
      "Epoch 4/20\n",
      "50000/50000 [==============================] - 157s - loss: 0.6727 - acc: 0.7627 - val_loss: 0.8496 - val_acc: 0.7099\n",
      "Epoch 5/20\n",
      "50000/50000 [==============================] - 154s - loss: 0.5386 - acc: 0.8129 - val_loss: 0.8959 - val_acc: 0.7014\n",
      "Epoch 6/20\n",
      "50000/50000 [==============================] - 153s - loss: 0.4131 - acc: 0.8575 - val_loss: 0.8795 - val_acc: 0.7271\n",
      "Epoch 7/20\n",
      "50000/50000 [==============================] - 151s - loss: 0.2969 - acc: 0.8987 - val_loss: 1.0052 - val_acc: 0.7134\n",
      "Epoch 8/20\n",
      "50000/50000 [==============================] - 151s - loss: 0.2114 - acc: 0.9278 - val_loss: 1.2108 - val_acc: 0.7064\n",
      "Epoch 9/20\n",
      "50000/50000 [==============================] - 149s - loss: 0.1529 - acc: 0.9486 - val_loss: 1.2487 - val_acc: 0.7211\n",
      "Epoch 10/20\n",
      "50000/50000 [==============================] - 148s - loss: 0.1235 - acc: 0.9587 - val_loss: 1.3911 - val_acc: 0.7080\n",
      "Epoch 11/20\n",
      "50000/50000 [==============================] - 149s - loss: 0.0927 - acc: 0.9688 - val_loss: 1.5674 - val_acc: 0.7088\n",
      "Epoch 12/20\n",
      "50000/50000 [==============================] - 148s - loss: 0.0911 - acc: 0.9685 - val_loss: 1.5799 - val_acc: 0.7057\n",
      "Epoch 13/20\n",
      "50000/50000 [==============================] - 148s - loss: 0.0837 - acc: 0.9719 - val_loss: 1.8091 - val_acc: 0.6929\n",
      "Epoch 14/20\n",
      "50000/50000 [==============================] - 147s - loss: 0.0711 - acc: 0.9759 - val_loss: 1.7839 - val_acc: 0.7060\n",
      "Epoch 15/20\n",
      "50000/50000 [==============================] - 147s - loss: 0.0680 - acc: 0.9771 - val_loss: 1.8724 - val_acc: 0.7079\n",
      "Epoch 16/20\n",
      "50000/50000 [==============================] - 146s - loss: 0.0706 - acc: 0.9764 - val_loss: 1.8519 - val_acc: 0.6990\n",
      "Epoch 17/20\n",
      "50000/50000 [==============================] - 146s - loss: 0.0586 - acc: 0.9807 - val_loss: 2.0409 - val_acc: 0.6960\n",
      "Epoch 18/20\n",
      "50000/50000 [==============================] - 146s - loss: 0.0602 - acc: 0.9797 - val_loss: 2.0588 - val_acc: 0.6956\n",
      "Epoch 19/20\n",
      "50000/50000 [==============================] - 146s - loss: 0.0553 - acc: 0.9813 - val_loss: 2.2021 - val_acc: 0.6952\n",
      "Epoch 20/20\n",
      "50000/50000 [==============================] - 147s - loss: 0.0534 - acc: 0.9831 - val_loss: 2.1007 - val_acc: 0.7069\n"
     ]
    }
   ],
   "source": [
    "#train the model\n",
    "res2 = model2.fit(X_train,y_train,\n",
    "              batch_size=batch_size,\n",
    "              nb_epoch=nb_epoch,\n",
    "              validation_data=(X_test, y_test),\n",
    "              shuffle=True)"
   ]
  },
  {
   "cell_type": "code",
   "execution_count": 40,
   "metadata": {
    "collapsed": false
   },
   "outputs": [
    {
     "data": {
      "text/plain": [
       "<matplotlib.legend.Legend at 0x14a6cc110>"
      ]
     },
     "execution_count": 40,
     "metadata": {},
     "output_type": "execute_result"
    },
    {
     "data": {
      "image/png": "[encoded data removed]",
      "text/plain": [
       "<matplotlib.figure.Figure at 0x14b196ed0>"
      ]
     },
     "metadata": {},
     "output_type": "display_data"
    }
   ],
   "source": [
    "#Accuracy score of training and test data\n",
    "x=range(nb_epoch)\n",
    "plt.plot(x,res2.history['acc'],label='Training')\n",
    "plt.plot(x,res2.history['val_acc'],label='Test')\n",
    "plt.xlabel('Number of Epochs')\n",
    "plt.ylabel('Accuracy Score')\n",
    "plt.legend(loc='best')\n"
   ]
  },
  {
   "cell_type": "markdown",
   "metadata": {},
   "source": [
    "# Model 3 3 Convolutional layers & 2 Fully connected layers"
   ]
  },
  {
   "cell_type": "code",
   "execution_count": 21,
   "metadata": {
    "collapsed": false
   },
   "outputs": [],
   "source": [
    "model3 = Sequential()\n",
    "model3.add(Convolution2D(32,3,3,border_mode='same',input_shape=(3,32,32)))\n",
    "model3.add(Activation('relu'))\n",
    "model3.add(MaxPooling2D(pool_size=(2,2)))\n",
    "\n",
    "model3.add(Convolution2D(32,3,3,border_mode='same'))\n",
    "model3.add(Activation('relu'))\n",
    "model3.add(MaxPooling2D(pool_size=(2,2)))\n",
    "\n",
    "model3.add(Convolution2D(32,3,3,border_mode='same'))\n",
    "model3.add(Activation('relu'))\n",
    "model3.add(MaxPooling2D(pool_size=(2,2)))\n",
    "\n",
    "model3.add(Flatten())\n",
    "model3.add(Dense(output_dim=512,activation='relu'))\n",
    "model3.add(Dense(output_dim=10,input_dim=512))\n",
    "model3.add(Activation('softmax'))\n",
    "\n",
    "\n",
    "model3.compile(loss='categorical_crossentropy',\n",
    "              optimizer='Adam',\n",
    "              metrics=['accuracy'])\n",
    "\n"
   ]
  },
  {
   "cell_type": "code",
   "execution_count": 22,
   "metadata": {
    "collapsed": false
   },
   "outputs": [
    {
     "name": "stdout",
     "output_type": "stream",
     "text": [
      "Train on 50000 samples, validate on 10000 samples\n",
      "Epoch 1/20\n",
      "50000/50000 [==============================] - 103s - loss: 1.4343 - acc: 0.4811 - val_loss: 1.1989 - val_acc: 0.5652\n",
      "Epoch 2/20\n",
      "50000/50000 [==============================] - 112s - loss: 1.0496 - acc: 0.6276 - val_loss: 0.9797 - val_acc: 0.6542\n",
      "Epoch 3/20\n",
      "50000/50000 [==============================] - 115s - loss: 0.8974 - acc: 0.6826 - val_loss: 0.9098 - val_acc: 0.6854\n",
      "Epoch 4/20\n",
      "50000/50000 [==============================] - 115s - loss: 0.7888 - acc: 0.7204 - val_loss: 0.8467 - val_acc: 0.7062\n",
      "Epoch 5/20\n",
      "50000/50000 [==============================] - 114s - loss: 0.7022 - acc: 0.7533 - val_loss: 0.8009 - val_acc: 0.7234\n",
      "Epoch 6/20\n",
      "50000/50000 [==============================] - 115s - loss: 0.6232 - acc: 0.7821 - val_loss: 0.8616 - val_acc: 0.7104\n",
      "Epoch 7/20\n",
      "50000/50000 [==============================] - 115s - loss: 0.5512 - acc: 0.8052 - val_loss: 0.8850 - val_acc: 0.7130\n",
      "Epoch 8/20\n",
      "50000/50000 [==============================] - 114s - loss: 0.4812 - acc: 0.8303 - val_loss: 0.9078 - val_acc: 0.7149\n",
      "Epoch 9/20\n",
      "50000/50000 [==============================] - 114s - loss: 0.4203 - acc: 0.8515 - val_loss: 0.9653 - val_acc: 0.7107\n",
      "Epoch 10/20\n",
      "50000/50000 [==============================] - 113s - loss: 0.3659 - acc: 0.8696 - val_loss: 0.9620 - val_acc: 0.7220\n",
      "Epoch 11/20\n",
      "50000/50000 [==============================] - 113s - loss: 0.3075 - acc: 0.8916 - val_loss: 1.0699 - val_acc: 0.7264\n",
      "Epoch 12/20\n",
      "50000/50000 [==============================] - 112s - loss: 0.2647 - acc: 0.9057 - val_loss: 1.1801 - val_acc: 0.7076\n",
      "Epoch 13/20\n",
      "50000/50000 [==============================] - 112s - loss: 0.2288 - acc: 0.9175 - val_loss: 1.1752 - val_acc: 0.7262\n",
      "Epoch 14/20\n",
      "50000/50000 [==============================] - 112s - loss: 0.1965 - acc: 0.9299 - val_loss: 1.2805 - val_acc: 0.7175\n",
      "Epoch 15/20\n",
      "50000/50000 [==============================] - 112s - loss: 0.1858 - acc: 0.9333 - val_loss: 1.3803 - val_acc: 0.7197\n",
      "Epoch 16/20\n",
      "50000/50000 [==============================] - 111s - loss: 0.1662 - acc: 0.9402 - val_loss: 1.4561 - val_acc: 0.7115\n",
      "Epoch 17/20\n",
      "50000/50000 [==============================] - 113s - loss: 0.1447 - acc: 0.9482 - val_loss: 1.5374 - val_acc: 0.7123\n",
      "Epoch 18/20\n",
      "50000/50000 [==============================] - 111s - loss: 0.1425 - acc: 0.9494 - val_loss: 1.6706 - val_acc: 0.7079\n",
      "Epoch 19/20\n",
      "50000/50000 [==============================] - 111s - loss: 0.1297 - acc: 0.9547 - val_loss: 1.7160 - val_acc: 0.7120\n",
      "Epoch 20/20\n",
      "50000/50000 [==============================] - 111s - loss: 0.1303 - acc: 0.9549 - val_loss: 1.7345 - val_acc: 0.7095\n"
     ]
    }
   ],
   "source": [
    "#Train the model\n",
    "res3 = model3.fit(X_train,y_train,\n",
    "              batch_size=batch_size,\n",
    "              nb_epoch=nb_epoch,\n",
    "              validation_data=(X_test, y_test),\n",
    "              shuffle=True)"
   ]
  },
  {
   "cell_type": "code",
   "execution_count": 31,
   "metadata": {
    "collapsed": false
   },
   "outputs": [
    {
     "data": {
      "text/plain": [
       "<matplotlib.legend.Legend at 0x145f7ee10>"
      ]
     },
     "execution_count": 31,
     "metadata": {},
     "output_type": "execute_result"
    },
    {
     "data": {
      "image/png": "[encoded data removed]",
      "text/plain": [
       "<matplotlib.figure.Figure at 0x14603f290>"
      ]
     },
     "metadata": {},
     "output_type": "display_data"
    }
   ],
   "source": [
    "#Accuracy score of training and test data\n",
    "x=range(nb_epoch)\n",
    "plt.plot(x,res3.history['acc'],label='Training')\n",
    "plt.plot(x,res3.history['val_acc'],label='Test')\n",
    "plt.xlabel('Number of Epochs')\n",
    "plt.ylabel('Accuracy Score')\n",
    "plt.legend(loc='best')\n"
   ]
  },
  {
   "cell_type": "markdown",
   "metadata": {
    "collapsed": true
   },
   "source": [
    "# Model 4 (4 Convolutional layers and 2 Fully connected layers)"
   ]
  },
  {
   "cell_type": "code",
   "execution_count": 76,
   "metadata": {
    "collapsed": false
   },
   "outputs": [],
   "source": [
    "model4 = Sequential()\n",
    "model4.add(Convolution2D(32,3,3,border_mode='same',input_shape=(3,32,32)))\n",
    "model4.add(Activation('relu'))\n",
    "model4.add(MaxPooling2D(pool_size=(2,2)))\n",
    "\n",
    "model4.add(Convolution2D(32,3,3,border_mode='same'))\n",
    "model4.add(Activation('relu'))\n",
    "model4.add(MaxPooling2D(pool_size=(2,2)))\n",
    "\n",
    "model4.add(Convolution2D(32,3,3,border_mode='same'))\n",
    "model4.add(Activation('relu'))\n",
    "model4.add(MaxPooling2D(pool_size=(2,2)))\n",
    "\n",
    "model4.add(Convolution2D(32,3,3,border_mode='same'))\n",
    "model4.add(Activation('relu'))\n",
    "model4.add(MaxPooling2D(pool_size=(2,2)))\n",
    "\n",
    "#model4.add(Convolution2D(32,3,3,border_mode='same'))\n",
    "#model4.add(Activation('relu'))\n",
    "#model4.add(MaxPooling2D(pool_size=(2,2)))\n",
    "\n",
    "model4.add(Flatten())\n",
    "model4.add(Dense(output_dim=512,activation='relu'))\n",
    "model4.add(Dense(output_dim=10,input_dim=512))\n",
    "model4.add(Activation('softmax'))\n",
    "\n",
    "\n",
    "model4.compile(loss='categorical_crossentropy',\n",
    "              optimizer='Adam',\n",
    "              metrics=['accuracy'])\n",
    "\n"
   ]
  },
  {
   "cell_type": "code",
   "execution_count": 77,
   "metadata": {
    "collapsed": false
   },
   "outputs": [
    {
     "name": "stdout",
     "output_type": "stream",
     "text": [
      "Train on 50000 samples, validate on 10000 samples\n",
      "Epoch 1/20\n",
      "50000/50000 [==============================] - 149s - loss: 1.5584 - acc: 0.4246 - val_loss: 1.2683 - val_acc: 0.5350\n",
      "Epoch 2/20\n",
      "50000/50000 [==============================] - 151s - loss: 1.1848 - acc: 0.5749 - val_loss: 1.0853 - val_acc: 0.6095\n",
      "Epoch 3/20\n",
      "50000/50000 [==============================] - 151s - loss: 1.0199 - acc: 0.6372 - val_loss: 1.0218 - val_acc: 0.6389\n",
      "Epoch 4/20\n",
      "50000/50000 [==============================] - 152s - loss: 0.9197 - acc: 0.6729 - val_loss: 0.9273 - val_acc: 0.6764\n",
      "Epoch 5/20\n",
      "50000/50000 [==============================] - 151s - loss: 0.8506 - acc: 0.7001 - val_loss: 0.8975 - val_acc: 0.6907\n",
      "Epoch 6/20\n",
      "50000/50000 [==============================] - 151s - loss: 0.7862 - acc: 0.7215 - val_loss: 0.9576 - val_acc: 0.6814\n",
      "Epoch 7/20\n",
      "50000/50000 [==============================] - 151s - loss: 0.7418 - acc: 0.7365 - val_loss: 0.8620 - val_acc: 0.7023\n",
      "Epoch 8/20\n",
      "50000/50000 [==============================] - 151s - loss: 0.6987 - acc: 0.7504 - val_loss: 0.8832 - val_acc: 0.7000\n",
      "Epoch 9/20\n",
      "50000/50000 [==============================] - 151s - loss: 0.6581 - acc: 0.7644 - val_loss: 0.8852 - val_acc: 0.7003\n",
      "Epoch 10/20\n",
      "50000/50000 [==============================] - 151s - loss: 0.6207 - acc: 0.7777 - val_loss: 0.8613 - val_acc: 0.7100\n",
      "Epoch 11/20\n",
      "50000/50000 [==============================] - 151s - loss: 0.5881 - acc: 0.7887 - val_loss: 0.8750 - val_acc: 0.7093\n",
      "Epoch 12/20\n",
      "50000/50000 [==============================] - 152s - loss: 0.5610 - acc: 0.7986 - val_loss: 0.8999 - val_acc: 0.7071\n",
      "Epoch 13/20\n",
      "50000/50000 [==============================] - 153s - loss: 0.5299 - acc: 0.8100 - val_loss: 0.8936 - val_acc: 0.7126\n",
      "Epoch 14/20\n",
      "50000/50000 [==============================] - 150s - loss: 0.5070 - acc: 0.8188 - val_loss: 0.9098 - val_acc: 0.7138\n",
      "Epoch 15/20\n",
      "50000/50000 [==============================] - 150s - loss: 0.4793 - acc: 0.8261 - val_loss: 0.9224 - val_acc: 0.7073\n",
      "Epoch 16/20\n",
      "50000/50000 [==============================] - 151s - loss: 0.4527 - acc: 0.8354 - val_loss: 1.0542 - val_acc: 0.6962\n",
      "Epoch 17/20\n",
      "50000/50000 [==============================] - 151s - loss: 0.4348 - acc: 0.8414 - val_loss: 1.0164 - val_acc: 0.7085\n",
      "Epoch 18/20\n",
      "50000/50000 [==============================] - 150s - loss: 0.4134 - acc: 0.8483 - val_loss: 0.9743 - val_acc: 0.7112\n",
      "Epoch 19/20\n",
      "50000/50000 [==============================] - 150s - loss: 0.3932 - acc: 0.8585 - val_loss: 1.0413 - val_acc: 0.7040\n",
      "Epoch 20/20\n",
      "50000/50000 [==============================] - 151s - loss: 0.3675 - acc: 0.8662 - val_loss: 1.0910 - val_acc: 0.7097\n"
     ]
    }
   ],
   "source": [
    "#train the model\n",
    "res4 = model4.fit(X_train,y_train,\n",
    "              batch_size=batch_size,\n",
    "              nb_epoch=nb_epoch,\n",
    "              validation_data=(X_test, y_test),\n",
    "              shuffle=True)"
   ]
  },
  {
   "cell_type": "code",
   "execution_count": 30,
   "metadata": {
    "collapsed": false
   },
   "outputs": [
    {
     "data": {
      "text/plain": [
       "<matplotlib.legend.Legend at 0x14601d4d0>"
      ]
     },
     "execution_count": 30,
     "metadata": {},
     "output_type": "execute_result"
    },
    {
     "data": {
      "image/png": "[encoded data removed]",
      "text/plain": [
       "<matplotlib.figure.Figure at 0x145f9c610>"
      ]
     },
     "metadata": {},
     "output_type": "display_data"
    }
   ],
   "source": [
    "#Accuracy score of training and test data\n",
    "x=range(nb_epoch)\n",
    "plt.plot(x,res4.history['acc'],label='Training')\n",
    "plt.plot(x,res4.history['val_acc'],label='Test')\n",
    "plt.xlabel('Number of Epochs')\n",
    "plt.ylabel('Accuracy Score')\n",
    "plt.legend(loc='best')\n"
   ]
  },
  {
   "cell_type": "code",
   "execution_count": 269,
   "metadata": {
    "collapsed": false
   },
   "outputs": [
    {
     "data": {
      "text/plain": [
       "<matplotlib.legend.Legend at 0x14f073c10>"
      ]
     },
     "execution_count": 269,
     "metadata": {},
     "output_type": "execute_result"
    },
    {
     "data": {
      "image/png": "[encoded data removed]",
      "text/plain": [
       "<matplotlib.figure.Figure at 0x151dbad90>"
      ]
     },
     "metadata": {},
     "output_type": "display_data"
    }
   ],
   "source": [
    "#Loss of training and test data\n",
    "x=range(nb_epoch)\n",
    "plt.plot(x,res4.history['loss'],label='Training')\n",
    "plt.plot(x,res4.history['val_loss'],label='Test')\n",
    "plt.xlabel('Number of Epochs')\n",
    "plt.ylabel('Loss')\n",
    "plt.legend(loc='best')"
   ]
  },
  {
   "cell_type": "markdown",
   "metadata": {},
   "source": [
    "# Model 5(Bayesian Optimization)"
   ]
  },
  {
   "cell_type": "code",
   "execution_count": 56,
   "metadata": {
    "collapsed": false
   },
   "outputs": [],
   "source": [
    "#Use early stopping not for overfitting\n",
    "from keras.callbacks import EarlyStopping\n",
    "\n",
    "#\"num\" is the  number of the first fully connected layer's dimension\n",
    "#\"lr\" is the learning rate of the optimization(Adam)\n",
    "def bo(num,lr):\n",
    "    model5 = Sequential()\n",
    "    model5.add(Convolution2D(32,3,3,border_mode='same',input_shape=(3,32,32)))\n",
    "    model5.add(Activation('relu'))\n",
    "    model5.add(MaxPooling2D(pool_size=(2,2)))\n",
    "\n",
    "    model5.add(Convolution2D(32,3,3,border_mode='same'))\n",
    "    model5.add(Activation('relu'))\n",
    "    model5.add(MaxPooling2D(pool_size=(2,2)))\n",
    "\n",
    "    model5.add(Convolution2D(32,3,3,border_mode='same'))\n",
    "    model5.add(Activation('relu'))\n",
    "    model5.add(MaxPooling2D(pool_size=(2,2)))\n",
    "\n",
    "    model5.add(Convolution2D(32,3,3,border_mode='same'))\n",
    "    model5.add(Activation('relu'))\n",
    "    model5.add(MaxPooling2D(pool_size=(2,2)))\n",
    "    \n",
    "    model5.add(Flatten())\n",
    "    model5.add(Dense(output_dim=num,activation='relu'))\n",
    "    model5.add(Dense(output_dim=10,input_dim=num))\n",
    "    model5.add(Activation('softmax'))\n",
    "    \n",
    "    adam = Adam(lr=lr)\n",
    "    \n",
    "    #early stopping(monitoring validation loss. When the validation loss doesn't decrease for 2 consecutive epochs, it will stop training)\n",
    "    early_stopping=EarlyStopping(monitor='val_loss', patience=2, verbose=0, mode='auto')\n",
    "    model5.compile(loss='categorical_crossentropy',\n",
    "              optimizer=adam,\n",
    "              metrics=['accuracy'])\n",
    "    model5.fit(X_train,y_train,\n",
    "              batch_size=batch_size,\n",
    "              nb_epoch=nb_epoch,\n",
    "              validation_data=(X_test, y_test),\n",
    "              shuffle=True,\n",
    "              verbose=1,\n",
    "              callbacks=[early_stopping])\n",
    "    _,score = model5.evaluate(X_test, y_test, batch_size=batch_size,verbose=1)\n",
    "    \n",
    "    return score"
   ]
  },
  {
   "cell_type": "code",
   "execution_count": 58,
   "metadata": {
    "collapsed": false,
    "scrolled": true
   },
   "outputs": [
    {
     "name": "stdout",
     "output_type": "stream",
     "text": [
      "\u001b[31mInitialization\u001b[0m\n",
      "\u001b[94m-----------------------------------------------------\u001b[0m\n",
      " Step |   Time |      Value |        lr |       num | \n",
      "Train on 50000 samples, validate on 10000 samples\n",
      "Epoch 1/20\n",
      "50000/50000 [==============================] - 148s - loss: 1.6867 - acc: 0.3786 - val_loss: 1.4058 - val_acc: 0.4888\n",
      "Epoch 2/20\n",
      "50000/50000 [==============================] - 150s - loss: 1.3436 - acc: 0.5120 - val_loss: 1.2491 - val_acc: 0.5460\n",
      "Epoch 3/20\n",
      "50000/50000 [==============================] - 148s - loss: 1.2181 - acc: 0.5621 - val_loss: 1.3081 - val_acc: 0.5280\n",
      "Epoch 4/20\n",
      "50000/50000 [==============================] - 148s - loss: 1.1302 - acc: 0.5967 - val_loss: 1.1044 - val_acc: 0.6072\n",
      "Epoch 5/20\n",
      "50000/50000 [==============================] - 149s - loss: 1.0546 - acc: 0.6256 - val_loss: 1.0403 - val_acc: 0.6330\n",
      "Epoch 6/20\n",
      "50000/50000 [==============================] - 149s - loss: 0.9952 - acc: 0.6488 - val_loss: 1.0017 - val_acc: 0.6473\n",
      "Epoch 7/20\n",
      "50000/50000 [==============================] - 150s - loss: 0.9443 - acc: 0.6675 - val_loss: 0.9854 - val_acc: 0.6485\n",
      "Epoch 8/20\n",
      "50000/50000 [==============================] - 149s - loss: 0.9016 - acc: 0.6830 - val_loss: 0.9872 - val_acc: 0.6536\n",
      "Epoch 9/20\n",
      "50000/50000 [==============================] - 149s - loss: 0.8650 - acc: 0.6957 - val_loss: 0.9441 - val_acc: 0.6740\n",
      "Epoch 10/20\n",
      "50000/50000 [==============================] - 159s - loss: 0.8298 - acc: 0.7107 - val_loss: 0.9137 - val_acc: 0.6858\n",
      "Epoch 11/20\n",
      "50000/50000 [==============================] - 151s - loss: 0.8029 - acc: 0.7183 - val_loss: 0.8910 - val_acc: 0.6904\n",
      "Epoch 12/20\n",
      "50000/50000 [==============================] - 148s - loss: 0.7738 - acc: 0.7291 - val_loss: 0.8863 - val_acc: 0.6999\n",
      "Epoch 13/20\n",
      "50000/50000 [==============================] - 147s - loss: 0.7506 - acc: 0.7369 - val_loss: 0.8600 - val_acc: 0.7062\n",
      "Epoch 14/20\n",
      "50000/50000 [==============================] - 148s - loss: 0.7326 - acc: 0.7444 - val_loss: 0.8954 - val_acc: 0.7046\n",
      "Epoch 15/20\n",
      "50000/50000 [==============================] - 148s - loss: 0.7107 - acc: 0.7508 - val_loss: 0.8545 - val_acc: 0.7095\n",
      "Epoch 16/20\n",
      "50000/50000 [==============================] - 147s - loss: 0.6917 - acc: 0.7569 - val_loss: 0.8480 - val_acc: 0.7187\n",
      "Epoch 17/20\n",
      "50000/50000 [==============================] - 147s - loss: 0.6760 - acc: 0.7627 - val_loss: 0.8381 - val_acc: 0.7206\n",
      "Epoch 18/20\n",
      "50000/50000 [==============================] - 148s - loss: 0.6583 - acc: 0.7692 - val_loss: 0.8706 - val_acc: 0.7116\n",
      "Epoch 19/20\n",
      "50000/50000 [==============================] - 147s - loss: 0.6473 - acc: 0.7729 - val_loss: 0.8589 - val_acc: 0.7075\n",
      "Epoch 20/20\n",
      "50000/50000 [==============================] - 147s - loss: 0.6290 - acc: 0.7811 - val_loss: 0.8356 - val_acc: 0.7212\n",
      "10000/10000 [==============================] - 8s     \n",
      "    1 | 49m57s | \u001b[35m   0.72120\u001b[0m | \u001b[32m   0.0005\u001b[0m | \u001b[32m  21.9761\u001b[0m | \n",
      "Train on 50000 samples, validate on 10000 samples\n",
      "Epoch 1/20\n",
      "50000/50000 [==============================] - 160s - loss: 2.3035 - acc: 0.1000 - val_loss: 2.3029 - val_acc: 0.1000\n",
      "Epoch 2/20\n",
      "50000/50000 [==============================] - 168s - loss: 2.3034 - acc: 0.0988 - val_loss: 2.3030 - val_acc: 0.1000\n",
      "Epoch 3/20\n",
      "50000/50000 [==============================] - 167s - loss: 2.3033 - acc: 0.0991 - val_loss: 2.3030 - val_acc: 0.1000\n",
      "Epoch 4/20\n",
      "50000/50000 [==============================] - 167s - loss: 2.3035 - acc: 0.0970 - val_loss: 2.3033 - val_acc: 0.1000\n",
      "10000/10000 [==============================] - 8s     \n",
      "    2 | 11m16s |    0.10000 |    0.0051 |  853.1780 | \n",
      "Train on 50000 samples, validate on 10000 samples\n",
      "Epoch 1/20\n",
      "50000/50000 [==============================] - 147s - loss: 1.6049 - acc: 0.4066 - val_loss: 1.3318 - val_acc: 0.5104\n",
      "Epoch 2/20\n",
      "50000/50000 [==============================] - 148s - loss: 1.2919 - acc: 0.5348 - val_loss: 1.2602 - val_acc: 0.5426\n",
      "Epoch 3/20\n",
      "50000/50000 [==============================] - 148s - loss: 1.1646 - acc: 0.5811 - val_loss: 1.1852 - val_acc: 0.5791\n",
      "Epoch 4/20\n",
      "50000/50000 [==============================] - 149s - loss: 1.0977 - acc: 0.6096 - val_loss: 1.1248 - val_acc: 0.6042\n",
      "Epoch 5/20\n",
      "50000/50000 [==============================] - 150s - loss: 1.0483 - acc: 0.6284 - val_loss: 1.0986 - val_acc: 0.6168\n",
      "Epoch 6/20\n",
      "50000/50000 [==============================] - 152s - loss: 1.0081 - acc: 0.6410 - val_loss: 1.1288 - val_acc: 0.6000\n",
      "Epoch 7/20\n",
      "50000/50000 [==============================] - 151s - loss: 0.9784 - acc: 0.6507 - val_loss: 1.0502 - val_acc: 0.6239\n",
      "Epoch 8/20\n",
      "50000/50000 [==============================] - 153s - loss: 0.9605 - acc: 0.6622 - val_loss: 1.0892 - val_acc: 0.6222\n",
      "Epoch 9/20\n",
      "50000/50000 [==============================] - 149s - loss: 0.9363 - acc: 0.6681 - val_loss: 1.0810 - val_acc: 0.6294\n",
      "Epoch 10/20\n",
      "50000/50000 [==============================] - 149s - loss: 0.9190 - acc: 0.6754 - val_loss: 1.0620 - val_acc: 0.6345\n",
      "10000/10000 [==============================] - 8s     \n",
      "    3 | 25m12s |    0.63450 |    0.0029 |  358.9341 | \n",
      "Train on 50000 samples, validate on 10000 samples\n",
      "Epoch 1/20\n",
      "50000/50000 [==============================] - 143s - loss: 1.6089 - acc: 0.4074 - val_loss: 1.3115 - val_acc: 0.5266\n",
      "Epoch 2/20\n",
      "50000/50000 [==============================] - 145s - loss: 1.2635 - acc: 0.5452 - val_loss: 1.2021 - val_acc: 0.5658\n",
      "Epoch 3/20\n",
      "50000/50000 [==============================] - 146s - loss: 1.1415 - acc: 0.5926 - val_loss: 1.1512 - val_acc: 0.5878\n",
      "Epoch 4/20\n",
      "50000/50000 [==============================] - 145s - loss: 1.0940 - acc: 0.6095 - val_loss: 1.0974 - val_acc: 0.6213\n",
      "Epoch 5/20\n",
      "50000/50000 [==============================] - 146s - loss: 1.0216 - acc: 0.6363 - val_loss: 1.0860 - val_acc: 0.6163\n",
      "Epoch 6/20\n",
      "50000/50000 [==============================] - 146s - loss: 0.9984 - acc: 0.6476 - val_loss: 1.0636 - val_acc: 0.6243\n",
      "Epoch 7/20\n",
      "50000/50000 [==============================] - 147s - loss: 0.9599 - acc: 0.6607 - val_loss: 1.1125 - val_acc: 0.6176\n",
      "Epoch 8/20\n",
      "50000/50000 [==============================] - 146s - loss: 0.9442 - acc: 0.6662 - val_loss: 0.9925 - val_acc: 0.6511\n",
      "Epoch 9/20\n",
      "50000/50000 [==============================] - 146s - loss: 0.9280 - acc: 0.6717 - val_loss: 0.9707 - val_acc: 0.6642\n",
      "Epoch 10/20\n",
      "50000/50000 [==============================] - 145s - loss: 0.9110 - acc: 0.6798 - val_loss: 1.0027 - val_acc: 0.6597\n",
      "Epoch 11/20\n",
      "50000/50000 [==============================] - 146s - loss: 0.9005 - acc: 0.6832 - val_loss: 1.0225 - val_acc: 0.6445\n",
      "Epoch 12/20\n",
      "50000/50000 [==============================] - 145s - loss: 0.8792 - acc: 0.6898 - val_loss: 1.0051 - val_acc: 0.6502\n",
      "10000/10000 [==============================] - 8s     \n",
      "    4 | 29m23s |    0.65020 |    0.0030 |  148.5669 | \n",
      "Train on 50000 samples, validate on 10000 samples\n",
      "Epoch 1/20\n",
      "50000/50000 [==============================] - 153s - loss: 2.3048 - acc: 0.1004 - val_loss: 2.3029 - val_acc: 0.1000\n",
      "Epoch 2/20\n",
      "50000/50000 [==============================] - 160s - loss: 2.3041 - acc: 0.0989 - val_loss: 2.3035 - val_acc: 0.1000\n",
      "Epoch 3/20\n",
      "50000/50000 [==============================] - 160s - loss: 2.3039 - acc: 0.0989 - val_loss: 2.3043 - val_acc: 0.1000\n",
      "Epoch 4/20\n",
      "50000/50000 [==============================] - 160s - loss: 2.3039 - acc: 0.0993 - val_loss: 2.3033 - val_acc: 0.1000\n",
      "10000/10000 [==============================] - 8s     \n",
      "    5 | 10m47s |    0.10000 |    0.0097 |  578.0967 | \n",
      "Train on 50000 samples, validate on 10000 samples\n",
      "Epoch 1/20\n",
      "50000/50000 [==============================] - 156s - loss: 14.3244 - acc: 0.0997 - val_loss: 14.5063 - val_acc: 0.1000\n",
      "Epoch 2/20\n",
      "50000/50000 [==============================] - 168s - loss: 14.5063 - acc: 0.1000 - val_loss: 14.5063 - val_acc: 0.1000\n",
      "Epoch 3/20\n",
      "50000/50000 [==============================] - 165s - loss: 14.5063 - acc: 0.1000 - val_loss: 14.5063 - val_acc: 0.1000\n",
      "Epoch 4/20\n",
      "50000/50000 [==============================] - 165s - loss: 14.5063 - acc: 0.1000 - val_loss: 14.5063 - val_acc: 0.1000\n",
      "10000/10000 [==============================] - 8s     \n",
      "    6 | 11m07s |    0.10000 |    0.0066 | 1004.7176 | \n",
      "Train on 50000 samples, validate on 10000 samples\n",
      "Epoch 1/20\n",
      "50000/50000 [==============================] - 145s - loss: 2.3050 - acc: 0.1014 - val_loss: 2.3032 - val_acc: 0.1000\n",
      "Epoch 2/20\n",
      "50000/50000 [==============================] - 149s - loss: 2.3040 - acc: 0.0986 - val_loss: 2.3030 - val_acc: 0.1000\n",
      "Epoch 3/20\n",
      "50000/50000 [==============================] - 148s - loss: 2.3040 - acc: 0.0982 - val_loss: 2.3029 - val_acc: 0.1000\n",
      "Epoch 4/20\n",
      "50000/50000 [==============================] - 148s - loss: 2.3040 - acc: 0.0988 - val_loss: 2.3040 - val_acc: 0.1000\n",
      "Epoch 5/20\n",
      "50000/50000 [==============================] - 147s - loss: 2.3042 - acc: 0.0995 - val_loss: 2.3033 - val_acc: 0.1000\n",
      "Epoch 6/20\n",
      "50000/50000 [==============================] - 148s - loss: 2.3040 - acc: 0.1002 - val_loss: 2.3041 - val_acc: 0.1000\n",
      "10000/10000 [==============================] - 8s     \n",
      "    7 | 14m59s |    0.10000 |    0.0099 |   57.3958 | \n",
      "Train on 50000 samples, validate on 10000 samples\n",
      "Epoch 1/20\n",
      "50000/50000 [==============================] - 149s - loss: 1.7793 - acc: 0.3363 - val_loss: 1.6001 - val_acc: 0.4073\n",
      "Epoch 2/20\n",
      "50000/50000 [==============================] - 154s - loss: 1.5588 - acc: 0.4288 - val_loss: 1.5200 - val_acc: 0.4459\n",
      "Epoch 3/20\n",
      "50000/50000 [==============================] - 155s - loss: 1.4766 - acc: 0.4596 - val_loss: 1.4622 - val_acc: 0.4785\n",
      "Epoch 4/20\n",
      "50000/50000 [==============================] - 157s - loss: 1.4344 - acc: 0.4814 - val_loss: 1.4161 - val_acc: 0.4873\n",
      "Epoch 5/20\n",
      "50000/50000 [==============================] - 157s - loss: 1.3984 - acc: 0.4915 - val_loss: 1.4618 - val_acc: 0.4740\n",
      "Epoch 6/20\n",
      "50000/50000 [==============================] - 157s - loss: 1.3776 - acc: 0.5006 - val_loss: 1.3765 - val_acc: 0.5020\n",
      "Epoch 7/20\n",
      "50000/50000 [==============================] - 158s - loss: 1.3559 - acc: 0.5070 - val_loss: 1.3541 - val_acc: 0.5032\n",
      "Epoch 8/20\n",
      "50000/50000 [==============================] - 159s - loss: 1.3424 - acc: 0.5134 - val_loss: 1.3669 - val_acc: 0.5068\n",
      "Epoch 9/20\n",
      "50000/50000 [==============================] - 158s - loss: 1.3222 - acc: 0.5184 - val_loss: 1.3675 - val_acc: 0.5071\n",
      "Epoch 10/20\n",
      "50000/50000 [==============================] - 158s - loss: 1.3079 - acc: 0.5267 - val_loss: 1.3484 - val_acc: 0.5225\n",
      "Epoch 11/20\n",
      "50000/50000 [==============================] - 158s - loss: 1.3011 - acc: 0.5287 - val_loss: 1.3646 - val_acc: 0.5125\n",
      "Epoch 12/20\n",
      "50000/50000 [==============================] - 158s - loss: 1.2966 - acc: 0.5321 - val_loss: 1.3940 - val_acc: 0.5004\n",
      "Epoch 13/20\n",
      "50000/50000 [==============================] - 158s - loss: 1.2792 - acc: 0.5398 - val_loss: 1.3144 - val_acc: 0.5299\n",
      "Epoch 14/20\n",
      "50000/50000 [==============================] - 159s - loss: 1.2746 - acc: 0.5406 - val_loss: 1.3216 - val_acc: 0.5203\n",
      "Epoch 15/20\n",
      "50000/50000 [==============================] - 159s - loss: 1.2710 - acc: 0.5412 - val_loss: 1.3099 - val_acc: 0.5310\n",
      "Epoch 16/20\n",
      "50000/50000 [==============================] - 159s - loss: 1.2670 - acc: 0.5440 - val_loss: 1.3458 - val_acc: 0.5191\n",
      "Epoch 17/20\n",
      "50000/50000 [==============================] - 159s - loss: 1.2637 - acc: 0.5442 - val_loss: 1.3548 - val_acc: 0.5194\n",
      "Epoch 18/20\n",
      "50000/50000 [==============================] - 159s - loss: 1.2561 - acc: 0.5504 - val_loss: 1.2784 - val_acc: 0.5433\n",
      "Epoch 19/20\n",
      "50000/50000 [==============================] - 159s - loss: 1.2668 - acc: 0.5453 - val_loss: 1.2827 - val_acc: 0.5440\n",
      "Epoch 20/20\n",
      "50000/50000 [==============================] - 160s - loss: 1.2459 - acc: 0.5546 - val_loss: 1.2975 - val_acc: 0.5298\n",
      "10000/10000 [==============================] - 8s     \n",
      "    8 | 52m53s |    0.52980 |    0.0042 |  698.6951 | \n",
      "Train on 50000 samples, validate on 10000 samples\n",
      "Epoch 1/20\n",
      "50000/50000 [==============================] - 157s - loss: 2.3040 - acc: 0.0989 - val_loss: 2.3031 - val_acc: 0.1000\n",
      "Epoch 2/20\n",
      "50000/50000 [==============================] - 165s - loss: 2.3038 - acc: 0.0978 - val_loss: 2.3042 - val_acc: 0.1000\n",
      "Epoch 3/20\n",
      "50000/50000 [==============================] - 165s - loss: 2.3038 - acc: 0.0989 - val_loss: 2.3036 - val_acc: 0.1000\n",
      "Epoch 4/20\n",
      "50000/50000 [==============================] - 167s - loss: 2.3035 - acc: 0.1001 - val_loss: 2.3044 - val_acc: 0.1000\n",
      "10000/10000 [==============================] - 8s     \n",
      "    9 | 11m08s |    0.10000 |    0.0082 |  786.1632 | \n",
      "Train on 50000 samples, validate on 10000 samples\n",
      "Epoch 1/20\n",
      "50000/50000 [==============================] - 147s - loss: 1.5712 - acc: 0.4195 - val_loss: 1.3497 - val_acc: 0.5130\n",
      "Epoch 2/20\n",
      "50000/50000 [==============================] - 149s - loss: 1.2197 - acc: 0.5618 - val_loss: 1.1309 - val_acc: 0.5969\n",
      "Epoch 3/20\n",
      "50000/50000 [==============================] - 150s - loss: 1.0611 - acc: 0.6255 - val_loss: 1.1183 - val_acc: 0.6037\n",
      "Epoch 4/20\n",
      "50000/50000 [==============================] - 149s - loss: 0.9577 - acc: 0.6621 - val_loss: 0.9864 - val_acc: 0.6567\n",
      "Epoch 5/20\n",
      "50000/50000 [==============================] - 149s - loss: 0.8873 - acc: 0.6885 - val_loss: 0.9016 - val_acc: 0.6874\n",
      "Epoch 6/20\n",
      "50000/50000 [==============================] - 150s - loss: 0.8273 - acc: 0.7083 - val_loss: 0.8750 - val_acc: 0.6980\n",
      "Epoch 7/20\n",
      "50000/50000 [==============================] - 149s - loss: 0.7825 - acc: 0.7247 - val_loss: 0.8601 - val_acc: 0.6982\n",
      "Epoch 8/20\n",
      "50000/50000 [==============================] - 149s - loss: 0.7434 - acc: 0.7389 - val_loss: 0.8204 - val_acc: 0.7184\n",
      "Epoch 9/20\n",
      "50000/50000 [==============================] - 149s - loss: 0.7085 - acc: 0.7492 - val_loss: 0.8877 - val_acc: 0.7013\n",
      "Epoch 10/20\n",
      "50000/50000 [==============================] - 149s - loss: 0.6766 - acc: 0.7616 - val_loss: 0.8192 - val_acc: 0.7213\n",
      "Epoch 11/20\n",
      "50000/50000 [==============================] - 149s - loss: 0.6485 - acc: 0.7711 - val_loss: 0.8120 - val_acc: 0.7189\n",
      "Epoch 12/20\n",
      "50000/50000 [==============================] - 150s - loss: 0.6206 - acc: 0.7823 - val_loss: 0.8376 - val_acc: 0.7104\n",
      "Epoch 13/20\n",
      "50000/50000 [==============================] - 149s - loss: 0.5990 - acc: 0.7880 - val_loss: 0.8298 - val_acc: 0.7232\n",
      "Epoch 14/20\n",
      "50000/50000 [==============================] - 149s - loss: 0.5721 - acc: 0.7979 - val_loss: 0.8207 - val_acc: 0.7214\n",
      "10000/10000 [==============================] - 10s    \n",
      "   10 | 35m07s | \u001b[35m   0.72140\u001b[0m | \u001b[32m   0.0006\u001b[0m | \u001b[32m 204.3143\u001b[0m | \n",
      "Train on 50000 samples, validate on 10000 samples\n",
      "Epoch 1/20\n",
      "50000/50000 [==============================] - 149s - loss: 1.7491 - acc: 0.3492 - val_loss: 1.5398 - val_acc: 0.4197\n",
      "Epoch 2/20\n",
      "50000/50000 [==============================] - 151s - loss: 1.4883 - acc: 0.4506 - val_loss: 1.4247 - val_acc: 0.4712\n",
      "Epoch 3/20\n",
      "50000/50000 [==============================] - 152s - loss: 1.4113 - acc: 0.4852 - val_loss: 1.3722 - val_acc: 0.4985\n",
      "Epoch 4/20\n",
      "50000/50000 [==============================] - 153s - loss: 1.3655 - acc: 0.5037 - val_loss: 1.4435 - val_acc: 0.4802\n",
      "Epoch 5/20\n",
      "50000/50000 [==============================] - 154s - loss: 1.3439 - acc: 0.5095 - val_loss: 1.3193 - val_acc: 0.5256\n",
      "Epoch 6/20\n",
      "50000/50000 [==============================] - 154s - loss: 1.3267 - acc: 0.5161 - val_loss: 1.3160 - val_acc: 0.5267\n",
      "Epoch 7/20\n",
      "50000/50000 [==============================] - 155s - loss: 1.2989 - acc: 0.5246 - val_loss: 1.3047 - val_acc: 0.5264\n",
      "Epoch 8/20\n",
      "50000/50000 [==============================] - 156s - loss: 1.2917 - acc: 0.5310 - val_loss: 1.2963 - val_acc: 0.5354\n",
      "Epoch 9/20\n",
      "50000/50000 [==============================] - 155s - loss: 1.2857 - acc: 0.5322 - val_loss: 1.2980 - val_acc: 0.5379\n",
      "Epoch 10/20\n",
      "50000/50000 [==============================] - 156s - loss: 1.2704 - acc: 0.5395 - val_loss: 1.3099 - val_acc: 0.5249\n",
      "Epoch 11/20\n",
      "50000/50000 [==============================] - 156s - loss: 1.2620 - acc: 0.5435 - val_loss: 1.2799 - val_acc: 0.5420\n",
      "Epoch 12/20\n",
      "50000/50000 [==============================] - 158s - loss: 1.2645 - acc: 0.5426 - val_loss: 1.3389 - val_acc: 0.5211\n",
      "Epoch 13/20\n",
      "50000/50000 [==============================] - 157s - loss: 1.2504 - acc: 0.5461 - val_loss: 1.2929 - val_acc: 0.5383\n",
      "Epoch 14/20\n",
      "50000/50000 [==============================] - 157s - loss: 1.2394 - acc: 0.5529 - val_loss: 1.2860 - val_acc: 0.5443\n",
      "10000/10000 [==============================] - 9s     \n",
      "   11 | 36m23s |    0.54430 |    0.0050 |  491.4175 | \n",
      "Train on 50000 samples, validate on 10000 samples\n",
      "Epoch 1/20\n",
      "50000/50000 [==============================] - 148s - loss: 1.7064 - acc: 0.3655 - val_loss: 1.5124 - val_acc: 0.4472\n",
      "Epoch 2/20\n",
      "50000/50000 [==============================] - 152s - loss: 1.4469 - acc: 0.4697 - val_loss: 1.3654 - val_acc: 0.5043\n",
      "Epoch 3/20\n",
      "50000/50000 [==============================] - 154s - loss: 1.3639 - acc: 0.5039 - val_loss: 1.4213 - val_acc: 0.4754\n",
      "Epoch 4/20\n",
      "50000/50000 [==============================] - 158s - loss: 1.3060 - acc: 0.5267 - val_loss: 1.2976 - val_acc: 0.5336\n",
      "Epoch 5/20\n",
      "50000/50000 [==============================] - 154s - loss: 1.2617 - acc: 0.5471 - val_loss: 1.3168 - val_acc: 0.5223\n",
      "Epoch 6/20\n",
      "50000/50000 [==============================] - 154s - loss: 1.2237 - acc: 0.5601 - val_loss: 1.2539 - val_acc: 0.5469\n",
      "Epoch 7/20\n",
      "50000/50000 [==============================] - 154s - loss: 1.1968 - acc: 0.5677 - val_loss: 1.2383 - val_acc: 0.5611\n",
      "Epoch 8/20\n",
      "50000/50000 [==============================] - 155s - loss: 1.1752 - acc: 0.5812 - val_loss: 1.1980 - val_acc: 0.5732\n",
      "Epoch 9/20\n",
      "50000/50000 [==============================] - 154s - loss: 1.1520 - acc: 0.5879 - val_loss: 1.1908 - val_acc: 0.5731\n",
      "Epoch 10/20\n",
      "50000/50000 [==============================] - 155s - loss: 1.1461 - acc: 0.5915 - val_loss: 1.2135 - val_acc: 0.5716\n",
      "Epoch 11/20\n",
      "50000/50000 [==============================] - 155s - loss: 1.1221 - acc: 0.5997 - val_loss: 1.1502 - val_acc: 0.5957\n",
      "Epoch 12/20\n",
      "50000/50000 [==============================] - 156s - loss: 1.1104 - acc: 0.6037 - val_loss: 1.2246 - val_acc: 0.5651\n",
      "Epoch 13/20\n",
      "50000/50000 [==============================] - 155s - loss: 1.0977 - acc: 0.6088 - val_loss: 1.1981 - val_acc: 0.5736\n",
      "Epoch 14/20\n",
      "50000/50000 [==============================] - 156s - loss: 1.0885 - acc: 0.6114 - val_loss: 1.1641 - val_acc: 0.5918\n",
      "10000/10000 [==============================] - 9s     \n",
      "   12 | 36m18s |    0.59180 |    0.0036 |  531.0673 | \n",
      "Train on 50000 samples, validate on 10000 samples\n",
      "Epoch 1/20\n",
      "50000/50000 [==============================] - 151s - loss: 13.4698 - acc: 0.1070 - val_loss: 14.5063 - val_acc: 0.1000\n",
      "Epoch 2/20\n",
      "50000/50000 [==============================] - 156s - loss: 14.5063 - acc: 0.1000 - val_loss: 14.5063 - val_acc: 0.1000\n",
      "Epoch 3/20\n",
      "50000/50000 [==============================] - 157s - loss: 14.5063 - acc: 0.1000 - val_loss: 14.5063 - val_acc: 0.1000\n",
      "Epoch 4/20\n",
      "50000/50000 [==============================] - 156s - loss: 14.5063 - acc: 0.1000 - val_loss: 14.5063 - val_acc: 0.1000\n",
      "10000/10000 [==============================] - 9s     \n",
      "   13 | 10m34s |    0.10000 |    0.0012 |  674.3550 | \n",
      "Train on 50000 samples, validate on 10000 samples\n",
      "Epoch 1/20\n",
      "50000/50000 [==============================] - 146s - loss: 1.6412 - acc: 0.3934 - val_loss: 1.4725 - val_acc: 0.4506\n",
      "Epoch 2/20\n",
      "50000/50000 [==============================] - 149s - loss: 1.3705 - acc: 0.5045 - val_loss: 1.2980 - val_acc: 0.5262\n",
      "Epoch 3/20\n",
      "50000/50000 [==============================] - 149s - loss: 1.2855 - acc: 0.5360 - val_loss: 1.2751 - val_acc: 0.5425\n",
      "Epoch 4/20\n",
      "50000/50000 [==============================] - 149s - loss: 1.2368 - acc: 0.5576 - val_loss: 1.2275 - val_acc: 0.5648\n",
      "Epoch 5/20\n",
      "50000/50000 [==============================] - 150s - loss: 1.1919 - acc: 0.5728 - val_loss: 1.2142 - val_acc: 0.5671\n",
      "Epoch 6/20\n",
      "50000/50000 [==============================] - 149s - loss: 1.1609 - acc: 0.5866 - val_loss: 1.2070 - val_acc: 0.5778\n",
      "Epoch 7/20\n",
      "50000/50000 [==============================] - 150s - loss: 1.1446 - acc: 0.5925 - val_loss: 1.1522 - val_acc: 0.6012\n",
      "Epoch 8/20\n",
      "50000/50000 [==============================] - 151s - loss: 1.1253 - acc: 0.6013 - val_loss: 1.1381 - val_acc: 0.5944\n",
      "Epoch 9/20\n",
      "50000/50000 [==============================] - 150s - loss: 1.1011 - acc: 0.6093 - val_loss: 1.1803 - val_acc: 0.5746\n",
      "Epoch 10/20\n",
      "50000/50000 [==============================] - 150s - loss: 1.0825 - acc: 0.6154 - val_loss: 1.1441 - val_acc: 0.5991\n",
      "Epoch 11/20\n",
      "50000/50000 [==============================] - 151s - loss: 1.0684 - acc: 0.6224 - val_loss: 1.0828 - val_acc: 0.6153\n",
      "Epoch 12/20\n",
      "50000/50000 [==============================] - 150s - loss: 1.0579 - acc: 0.6237 - val_loss: 1.1078 - val_acc: 0.6104\n",
      "Epoch 13/20\n",
      "50000/50000 [==============================] - 150s - loss: 1.0543 - acc: 0.6270 - val_loss: 1.1289 - val_acc: 0.6070\n",
      "Epoch 14/20\n",
      "50000/50000 [==============================] - 150s - loss: 1.0384 - acc: 0.6341 - val_loss: 1.1248 - val_acc: 0.6117\n",
      "10000/10000 [==============================] - 9s     \n",
      "   14 | 35m14s |    0.61170 |    0.0040 |  261.7114 | \n",
      "Train on 50000 samples, validate on 10000 samples\n",
      "Epoch 1/20\n",
      "50000/50000 [==============================] - 148s - loss: 1.7320 - acc: 0.3561 - val_loss: 1.5236 - val_acc: 0.4387\n",
      "Epoch 2/20\n",
      "50000/50000 [==============================] - 151s - loss: 1.4942 - acc: 0.4522 - val_loss: 1.4488 - val_acc: 0.4747\n",
      "Epoch 3/20\n",
      "50000/50000 [==============================] - 151s - loss: 1.4228 - acc: 0.4822 - val_loss: 1.4910 - val_acc: 0.4787\n",
      "Epoch 4/20\n",
      "50000/50000 [==============================] - 152s - loss: 1.3760 - acc: 0.5035 - val_loss: 1.3560 - val_acc: 0.5116\n",
      "Epoch 5/20\n",
      "50000/50000 [==============================] - 153s - loss: 1.3413 - acc: 0.5159 - val_loss: 1.3696 - val_acc: 0.5035\n",
      "Epoch 6/20\n",
      "50000/50000 [==============================] - 152s - loss: 1.3241 - acc: 0.5193 - val_loss: 1.3226 - val_acc: 0.5193\n",
      "Epoch 7/20\n",
      "50000/50000 [==============================] - 152s - loss: 1.2970 - acc: 0.5324 - val_loss: 1.2985 - val_acc: 0.5333\n",
      "Epoch 8/20\n",
      "50000/50000 [==============================] - 152s - loss: 1.2867 - acc: 0.5361 - val_loss: 1.3109 - val_acc: 0.5358\n",
      "Epoch 9/20\n",
      "50000/50000 [==============================] - 154s - loss: 1.2711 - acc: 0.5450 - val_loss: 1.2954 - val_acc: 0.5411\n",
      "Epoch 10/20\n",
      "50000/50000 [==============================] - 154s - loss: 1.2616 - acc: 0.5485 - val_loss: 1.2372 - val_acc: 0.5550\n",
      "Epoch 11/20\n",
      "50000/50000 [==============================] - 153s - loss: 1.2470 - acc: 0.5540 - val_loss: 1.3001 - val_acc: 0.5408\n",
      "Epoch 12/20\n",
      "50000/50000 [==============================] - 153s - loss: 1.2379 - acc: 0.5597 - val_loss: 1.2457 - val_acc: 0.5556\n",
      "Epoch 13/20\n",
      "50000/50000 [==============================] - 153s - loss: 1.2263 - acc: 0.5635 - val_loss: 1.2521 - val_acc: 0.5612\n",
      "10000/10000 [==============================] - 9s     \n",
      "   15 | 33m18s |    0.56120 |    0.0053 |  366.7746 | \n",
      "Train on 50000 samples, validate on 10000 samples\n",
      "Epoch 1/20\n",
      "50000/50000 [==============================] - 149s - loss: 1.5654 - acc: 0.4233 - val_loss: 1.2550 - val_acc: 0.5406\n",
      "Epoch 2/20\n",
      "50000/50000 [==============================] - 150s - loss: 1.1949 - acc: 0.5716 - val_loss: 1.1134 - val_acc: 0.6007\n",
      "Epoch 3/20\n",
      "50000/50000 [==============================] - 150s - loss: 1.0480 - acc: 0.6275 - val_loss: 0.9965 - val_acc: 0.6488\n",
      "Epoch 4/20\n",
      "50000/50000 [==============================] - 152s - loss: 0.9486 - acc: 0.6618 - val_loss: 0.9755 - val_acc: 0.6602\n",
      "Epoch 5/20\n",
      "50000/50000 [==============================] - 151s - loss: 0.8832 - acc: 0.6873 - val_loss: 0.9662 - val_acc: 0.6626\n",
      "Epoch 6/20\n",
      "50000/50000 [==============================] - 150s - loss: 0.8332 - acc: 0.7067 - val_loss: 0.8809 - val_acc: 0.6944\n",
      "Epoch 7/20\n",
      "50000/50000 [==============================] - 150s - loss: 0.7956 - acc: 0.7192 - val_loss: 0.8679 - val_acc: 0.6968\n",
      "Epoch 8/20\n",
      "50000/50000 [==============================] - 151s - loss: 0.7565 - acc: 0.7302 - val_loss: 0.8756 - val_acc: 0.7009\n",
      "Epoch 9/20\n",
      "50000/50000 [==============================] - 150s - loss: 0.7272 - acc: 0.7408 - val_loss: 0.8878 - val_acc: 0.7002\n",
      "Epoch 10/20\n",
      "50000/50000 [==============================] - 150s - loss: 0.7024 - acc: 0.7507 - val_loss: 0.9162 - val_acc: 0.6952\n",
      "10000/10000 [==============================] - 9s     \n",
      "   16 | 25m21s |    0.69520 |    0.0014 |  286.9202 | \n",
      "Train on 50000 samples, validate on 10000 samples\n",
      "Epoch 1/20\n",
      "50000/50000 [==============================] - 176s - loss: 1.6231 - acc: 0.3955 - val_loss: 1.3918 - val_acc: 0.4870\n",
      "Epoch 2/20\n",
      "50000/50000 [==============================] - 159s - loss: 1.3353 - acc: 0.5173 - val_loss: 1.3377 - val_acc: 0.5300\n",
      "Epoch 3/20\n",
      "50000/50000 [==============================] - 162s - loss: 1.2287 - acc: 0.5616 - val_loss: 1.2453 - val_acc: 0.5553\n",
      "Epoch 4/20\n",
      "50000/50000 [==============================] - 175s - loss: 1.1751 - acc: 0.5813 - val_loss: 1.1948 - val_acc: 0.5701\n",
      "Epoch 5/20\n",
      "50000/50000 [==============================] - 167s - loss: 1.1223 - acc: 0.5981 - val_loss: 1.2289 - val_acc: 0.5668\n",
      "Epoch 6/20\n",
      "50000/50000 [==============================] - 173s - loss: 1.0885 - acc: 0.6112 - val_loss: 1.1272 - val_acc: 0.6052\n",
      "Epoch 7/20\n",
      "50000/50000 [==============================] - 172s - loss: 1.0729 - acc: 0.6189 - val_loss: 1.1115 - val_acc: 0.6175\n",
      "Epoch 8/20\n",
      "50000/50000 [==============================] - 162s - loss: 1.0496 - acc: 0.6281 - val_loss: 1.1399 - val_acc: 0.6076\n",
      "Epoch 9/20\n",
      "50000/50000 [==============================] - 162s - loss: 1.0442 - acc: 0.6316 - val_loss: 1.1615 - val_acc: 0.6000\n",
      "Epoch 10/20\n",
      "50000/50000 [==============================] - 178s - loss: 1.0217 - acc: 0.6411 - val_loss: 1.1286 - val_acc: 0.6065\n",
      "10000/10000 [==============================] - 10s    \n",
      "   17 | 28m25s |    0.60650 |    0.0036 |  610.7459 | \n",
      "Train on 50000 samples, validate on 10000 samples\n",
      "Epoch 1/20\n",
      "50000/50000 [==============================] - 150s - loss: 2.3040 - acc: 0.1003 - val_loss: 2.3037 - val_acc: 0.1000\n",
      "Epoch 2/20\n",
      "50000/50000 [==============================] - 165s - loss: 2.3038 - acc: 0.0998 - val_loss: 2.3039 - val_acc: 0.1000\n",
      "Epoch 3/20\n",
      "50000/50000 [==============================] - 186s - loss: 2.3038 - acc: 0.1002 - val_loss: 2.3041 - val_acc: 0.1000\n",
      "Epoch 4/20\n",
      "50000/50000 [==============================] - 155s - loss: 2.3038 - acc: 0.0989 - val_loss: 2.3039 - val_acc: 0.1000\n",
      "10000/10000 [==============================] - 8s     \n",
      "   18 | 11m11s |    0.10000 |    0.0091 |  324.8828 | \n",
      "Train on 50000 samples, validate on 10000 samples\n",
      "Epoch 1/20\n",
      "50000/50000 [==============================] - 147s - loss: 1.5315 - acc: 0.4402 - val_loss: 1.2451 - val_acc: 0.5432\n",
      "Epoch 2/20\n",
      "50000/50000 [==============================] - 151s - loss: 1.1690 - acc: 0.5793 - val_loss: 1.0868 - val_acc: 0.6106\n",
      "Epoch 3/20\n",
      "50000/50000 [==============================] - 151s - loss: 1.0141 - acc: 0.6387 - val_loss: 1.0637 - val_acc: 0.6253\n",
      "Epoch 4/20\n",
      "50000/50000 [==============================] - 150s - loss: 0.9188 - acc: 0.6729 - val_loss: 0.9443 - val_acc: 0.6679\n",
      "Epoch 5/20\n",
      "50000/50000 [==============================] - 153s - loss: 0.8542 - acc: 0.6951 - val_loss: 0.8968 - val_acc: 0.6872\n",
      "Epoch 6/20\n",
      "50000/50000 [==============================] - 152s - loss: 0.8000 - acc: 0.7159 - val_loss: 0.8789 - val_acc: 0.6924\n",
      "Epoch 7/20\n",
      "50000/50000 [==============================] - 150s - loss: 0.7531 - acc: 0.7345 - val_loss: 0.8982 - val_acc: 0.6867\n",
      "Epoch 8/20\n",
      "50000/50000 [==============================] - 150s - loss: 0.7167 - acc: 0.7456 - val_loss: 0.8960 - val_acc: 0.6920\n",
      "Epoch 9/20\n",
      "50000/50000 [==============================] - 150s - loss: 0.6821 - acc: 0.7608 - val_loss: 0.9148 - val_acc: 0.6924\n",
      "10000/10000 [==============================] - 8s     \n",
      "   19 | 22m49s |    0.69240 |    0.0012 |  532.2579 | \n",
      "Train on 50000 samples, validate on 10000 samples\n",
      "Epoch 1/20\n",
      "50000/50000 [==============================] - 144s - loss: 2.3036 - acc: 0.0970 - val_loss: 2.3037 - val_acc: 0.1000\n",
      "Epoch 2/20\n",
      "50000/50000 [==============================] - 146s - loss: 2.3034 - acc: 0.1004 - val_loss: 2.3038 - val_acc: 0.1000\n",
      "Epoch 3/20\n",
      "50000/50000 [==============================] - 145s - loss: 2.3035 - acc: 0.0978 - val_loss: 2.3030 - val_acc: 0.1000\n",
      "Epoch 4/20\n",
      "50000/50000 [==============================] - 145s - loss: 2.3034 - acc: 0.0986 - val_loss: 2.3031 - val_acc: 0.1000\n",
      "Epoch 5/20\n",
      "50000/50000 [==============================] - 145s - loss: 2.3034 - acc: 0.0992 - val_loss: 2.3032 - val_acc: 0.1000\n",
      "Epoch 6/20\n",
      "50000/50000 [==============================] - 145s - loss: 2.3034 - acc: 0.0996 - val_loss: 2.3033 - val_acc: 0.1000\n",
      "10000/10000 [==============================] - 8s     \n",
      "   20 | 14m45s |    0.10000 |    0.0058 |   14.0401 | \n",
      "Train on 50000 samples, validate on 10000 samples\n",
      "Epoch 1/20\n",
      "50000/50000 [==============================] - 147s - loss: 1.7920 - acc: 0.3382 - val_loss: 1.6595 - val_acc: 0.4010\n",
      "Epoch 2/20\n",
      "50000/50000 [==============================] - 150s - loss: 1.5291 - acc: 0.4412 - val_loss: 1.4589 - val_acc: 0.4702\n",
      "Epoch 3/20\n",
      "50000/50000 [==============================] - 151s - loss: 1.4480 - acc: 0.4732 - val_loss: 1.3990 - val_acc: 0.4946\n",
      "Epoch 4/20\n",
      "50000/50000 [==============================] - 151s - loss: 1.3983 - acc: 0.4922 - val_loss: 1.3827 - val_acc: 0.4930\n",
      "Epoch 5/20\n",
      "50000/50000 [==============================] - 152s - loss: 1.3680 - acc: 0.5039 - val_loss: 1.4145 - val_acc: 0.4951\n",
      "Epoch 6/20\n",
      "50000/50000 [==============================] - 151s - loss: 1.3486 - acc: 0.5118 - val_loss: 1.3967 - val_acc: 0.4969\n",
      "Epoch 7/20\n",
      "50000/50000 [==============================] - 153s - loss: 1.3352 - acc: 0.5183 - val_loss: 1.4175 - val_acc: 0.4929\n",
      "10000/10000 [==============================] - 8s     \n",
      "   21 | 17m51s |    0.49290 |    0.0051 |  423.1736 | \n",
      "Train on 50000 samples, validate on 10000 samples\n",
      "Epoch 1/20\n",
      "50000/50000 [==============================] - 146s - loss: 1.8129 - acc: 0.3249 - val_loss: 1.5631 - val_acc: 0.4129\n",
      "Epoch 2/20\n",
      "50000/50000 [==============================] - 150s - loss: 1.5322 - acc: 0.4390 - val_loss: 1.5138 - val_acc: 0.4483\n",
      "Epoch 3/20\n",
      "50000/50000 [==============================] - 152s - loss: 1.4736 - acc: 0.4633 - val_loss: 1.4927 - val_acc: 0.4673\n",
      "Epoch 4/20\n",
      "50000/50000 [==============================] - 153s - loss: 1.4392 - acc: 0.4784 - val_loss: 1.4665 - val_acc: 0.4754\n",
      "Epoch 5/20\n",
      "50000/50000 [==============================] - 153s - loss: 1.4296 - acc: 0.4813 - val_loss: 1.4539 - val_acc: 0.4732\n",
      "Epoch 6/20\n",
      "50000/50000 [==============================] - 152s - loss: 1.4026 - acc: 0.4927 - val_loss: 1.4240 - val_acc: 0.4834\n",
      "Epoch 7/20\n",
      "50000/50000 [==============================] - 153s - loss: 1.3877 - acc: 0.4970 - val_loss: 1.4006 - val_acc: 0.5005\n",
      "Epoch 8/20\n",
      "50000/50000 [==============================] - 154s - loss: 1.3694 - acc: 0.5089 - val_loss: 1.3664 - val_acc: 0.5117\n",
      "Epoch 9/20\n",
      "50000/50000 [==============================] - 153s - loss: 1.3525 - acc: 0.5155 - val_loss: 1.3893 - val_acc: 0.5074\n",
      "Epoch 10/20\n",
      "50000/50000 [==============================] - 153s - loss: 1.3383 - acc: 0.5226 - val_loss: 1.3567 - val_acc: 0.5178\n",
      "Epoch 11/20\n",
      "50000/50000 [==============================] - 154s - loss: 1.3271 - acc: 0.5237 - val_loss: 1.4856 - val_acc: 0.4649\n",
      "Epoch 12/20\n",
      "50000/50000 [==============================] - 154s - loss: 1.3078 - acc: 0.5342 - val_loss: 1.3346 - val_acc: 0.5250\n",
      "Epoch 13/20\n",
      "50000/50000 [==============================] - 154s - loss: 1.3007 - acc: 0.5354 - val_loss: 1.3939 - val_acc: 0.5115\n",
      "Epoch 14/20\n",
      "50000/50000 [==============================] - 153s - loss: 1.2941 - acc: 0.5362 - val_loss: 1.3698 - val_acc: 0.5200\n",
      "Epoch 15/20\n",
      "50000/50000 [==============================] - 154s - loss: 1.2785 - acc: 0.5430 - val_loss: 1.3804 - val_acc: 0.5182\n",
      "10000/10000 [==============================] - 8s     \n",
      "   22 | 38m26s |    0.51820 |    0.0054 |  400.8602 | \n",
      "Train on 50000 samples, validate on 10000 samples\n",
      "Epoch 1/20\n",
      "50000/50000 [==============================] - 150s - loss: 1.7085 - acc: 0.3648 - val_loss: 1.5583 - val_acc: 0.4240\n",
      "Epoch 2/20\n",
      "50000/50000 [==============================] - 154s - loss: 1.4531 - acc: 0.4699 - val_loss: 1.4311 - val_acc: 0.4865\n",
      "Epoch 3/20\n",
      "50000/50000 [==============================] - 155s - loss: 1.3562 - acc: 0.5058 - val_loss: 1.3594 - val_acc: 0.5052\n",
      "Epoch 4/20\n",
      "50000/50000 [==============================] - 157s - loss: 1.2912 - acc: 0.5353 - val_loss: 1.3427 - val_acc: 0.5077\n",
      "Epoch 5/20\n",
      "50000/50000 [==============================] - 158s - loss: 1.2503 - acc: 0.5519 - val_loss: 1.2591 - val_acc: 0.5411\n",
      "Epoch 6/20\n",
      "50000/50000 [==============================] - 158s - loss: 1.2217 - acc: 0.5629 - val_loss: 1.3489 - val_acc: 0.5281\n",
      "Epoch 7/20\n",
      "50000/50000 [==============================] - 159s - loss: 1.1943 - acc: 0.5731 - val_loss: 1.2399 - val_acc: 0.5514\n",
      "Epoch 8/20\n",
      "50000/50000 [==============================] - 159s - loss: 1.1729 - acc: 0.5798 - val_loss: 1.2096 - val_acc: 0.5675\n",
      "Epoch 9/20\n",
      "50000/50000 [==============================] - 159s - loss: 1.1540 - acc: 0.5866 - val_loss: 1.2140 - val_acc: 0.5695\n",
      "Epoch 10/20\n",
      "50000/50000 [==============================] - 159s - loss: 1.1373 - acc: 0.5924 - val_loss: 1.2179 - val_acc: 0.5762\n",
      "Epoch 11/20\n",
      "50000/50000 [==============================] - 159s - loss: 1.1227 - acc: 0.5983 - val_loss: 1.1966 - val_acc: 0.5703\n",
      "Epoch 12/20\n",
      "50000/50000 [==============================] - 160s - loss: 1.1099 - acc: 0.6035 - val_loss: 1.2155 - val_acc: 0.5704\n",
      "Epoch 13/20\n",
      "50000/50000 [==============================] - 160s - loss: 1.0976 - acc: 0.6073 - val_loss: 1.2149 - val_acc: 0.5803\n",
      "Epoch 14/20\n",
      "50000/50000 [==============================] - 160s - loss: 1.0841 - acc: 0.6125 - val_loss: 1.2488 - val_acc: 0.5623\n",
      "10000/10000 [==============================] - 8s     \n",
      "   23 | 37m05s |    0.56230 |    0.0033 |  791.6209 | \n",
      "Train on 50000 samples, validate on 10000 samples\n",
      "Epoch 1/20\n",
      "50000/50000 [==============================] - 148s - loss: 1.5622 - acc: 0.4234 - val_loss: 1.3163 - val_acc: 0.5279\n",
      "Epoch 2/20\n",
      "50000/50000 [==============================] - 147s - loss: 1.1740 - acc: 0.5789 - val_loss: 1.0890 - val_acc: 0.6119\n",
      "Epoch 3/20\n",
      "50000/50000 [==============================] - 148s - loss: 1.0246 - acc: 0.6343 - val_loss: 0.9838 - val_acc: 0.6495\n",
      "Epoch 4/20\n",
      "50000/50000 [==============================] - 148s - loss: 0.9211 - acc: 0.6716 - val_loss: 0.9671 - val_acc: 0.6542\n",
      "Epoch 5/20\n",
      "50000/50000 [==============================] - 149s - loss: 0.8611 - acc: 0.6936 - val_loss: 0.8979 - val_acc: 0.6883\n",
      "Epoch 6/20\n",
      "50000/50000 [==============================] - 148s - loss: 0.8006 - acc: 0.7146 - val_loss: 0.8771 - val_acc: 0.6962\n",
      "Epoch 7/20\n",
      "50000/50000 [==============================] - 148s - loss: 0.7663 - acc: 0.7289 - val_loss: 0.8614 - val_acc: 0.6990\n",
      "Epoch 8/20\n",
      "50000/50000 [==============================] - 148s - loss: 0.7252 - acc: 0.7431 - val_loss: 0.8450 - val_acc: 0.7110\n",
      "Epoch 9/20\n",
      "50000/50000 [==============================] - 148s - loss: 0.6978 - acc: 0.7531 - val_loss: 0.8785 - val_acc: 0.6968\n",
      "Epoch 10/20\n",
      "50000/50000 [==============================] - 150s - loss: 0.6756 - acc: 0.7590 - val_loss: 0.8383 - val_acc: 0.7096\n",
      "Epoch 11/20\n",
      "50000/50000 [==============================] - 148s - loss: 0.6430 - acc: 0.7714 - val_loss: 0.8382 - val_acc: 0.7185\n",
      "Epoch 12/20\n",
      "50000/50000 [==============================] - 149s - loss: 0.6239 - acc: 0.7797 - val_loss: 0.8769 - val_acc: 0.7029\n",
      "Epoch 13/20\n",
      "50000/50000 [==============================] - 148s - loss: 0.6051 - acc: 0.7850 - val_loss: 0.8471 - val_acc: 0.7141\n",
      "Epoch 14/20\n",
      "50000/50000 [==============================] - 149s - loss: 0.5803 - acc: 0.7928 - val_loss: 0.8930 - val_acc: 0.7018\n",
      "10000/10000 [==============================] - 8s     \n",
      "   24 | 34m54s |    0.70180 |    0.0011 |   94.6172 | \n",
      "Train on 50000 samples, validate on 10000 samples\n",
      "Epoch 1/20\n",
      "50000/50000 [==============================] - 151s - loss: 1.6716 - acc: 0.3883 - val_loss: 1.4523 - val_acc: 0.4680\n",
      "Epoch 2/20\n",
      "50000/50000 [==============================] - 152s - loss: 1.3551 - acc: 0.5112 - val_loss: 1.2823 - val_acc: 0.5399\n",
      "Epoch 3/20\n",
      "50000/50000 [==============================] - 153s - loss: 1.2082 - acc: 0.5685 - val_loss: 1.2478 - val_acc: 0.5569\n",
      "Epoch 4/20\n",
      "50000/50000 [==============================] - 153s - loss: 1.1172 - acc: 0.6018 - val_loss: 1.1580 - val_acc: 0.5929\n",
      "Epoch 5/20\n",
      "50000/50000 [==============================] - 152s - loss: 1.0440 - acc: 0.6323 - val_loss: 1.0412 - val_acc: 0.6311\n",
      "Epoch 6/20\n",
      "50000/50000 [==============================] - 153s - loss: 0.9850 - acc: 0.6509 - val_loss: 0.9879 - val_acc: 0.6471\n",
      "Epoch 7/20\n",
      "50000/50000 [==============================] - 154s - loss: 0.9344 - acc: 0.6681 - val_loss: 0.9711 - val_acc: 0.6567\n",
      "Epoch 8/20\n",
      "50000/50000 [==============================] - 155s - loss: 0.8908 - acc: 0.6847 - val_loss: 0.9239 - val_acc: 0.6780\n",
      "Epoch 9/20\n",
      "50000/50000 [==============================] - 154s - loss: 0.8530 - acc: 0.6975 - val_loss: 0.9774 - val_acc: 0.6571\n",
      "Epoch 10/20\n",
      "50000/50000 [==============================] - 154s - loss: 0.8195 - acc: 0.7123 - val_loss: 0.9045 - val_acc: 0.6808\n",
      "Epoch 11/20\n",
      "50000/50000 [==============================] - 154s - loss: 0.7836 - acc: 0.7230 - val_loss: 0.9033 - val_acc: 0.6901\n",
      "Epoch 12/20\n",
      "50000/50000 [==============================] - 154s - loss: 0.7516 - acc: 0.7348 - val_loss: 0.8730 - val_acc: 0.6994\n",
      "Epoch 13/20\n",
      "50000/50000 [==============================] - 155s - loss: 0.7232 - acc: 0.7450 - val_loss: 0.8473 - val_acc: 0.7066\n",
      "Epoch 14/20\n",
      "50000/50000 [==============================] - 154s - loss: 0.6954 - acc: 0.7546 - val_loss: 0.8573 - val_acc: 0.7043\n",
      "Epoch 15/20\n",
      "50000/50000 [==============================] - 156s - loss: 0.6695 - acc: 0.7646 - val_loss: 0.8524 - val_acc: 0.7012\n",
      "Epoch 16/20\n",
      "50000/50000 [==============================] - 155s - loss: 0.6459 - acc: 0.7721 - val_loss: 0.8603 - val_acc: 0.7077\n",
      "10000/10000 [==============================] - 8s     \n",
      "   25 | 41m18s |    0.70770 |    0.0003 |  715.7214 | \n",
      "\u001b[31mBayesian Optimization\u001b[0m\n",
      "\u001b[94m-----------------------------------------------------\u001b[0m\n",
      " Step |   Time |      Value |        lr |       num | \n",
      "Train on 50000 samples, validate on 10000 samples\n",
      "Epoch 1/20\n",
      "50000/50000 [==============================] - 153s - loss: 1.8097 - acc: 0.3354 - val_loss: 1.5950 - val_acc: 0.4109\n",
      "Epoch 2/20\n",
      "50000/50000 [==============================] - 184s - loss: 1.5167 - acc: 0.4465 - val_loss: 1.4571 - val_acc: 0.4586\n",
      "Epoch 3/20\n",
      "50000/50000 [==============================] - 197s - loss: 1.4101 - acc: 0.4892 - val_loss: 1.3629 - val_acc: 0.5065\n",
      "Epoch 4/20\n",
      "50000/50000 [==============================] - 158s - loss: 1.3368 - acc: 0.5174 - val_loss: 1.3020 - val_acc: 0.5255\n",
      "Epoch 5/20\n",
      "50000/50000 [==============================] - 158s - loss: 1.2791 - acc: 0.5405 - val_loss: 1.2616 - val_acc: 0.5448\n",
      "Epoch 6/20\n",
      "50000/50000 [==============================] - 158s - loss: 1.2338 - acc: 0.5589 - val_loss: 1.2376 - val_acc: 0.5579\n",
      "Epoch 7/20\n",
      "50000/50000 [==============================] - 153s - loss: 1.1915 - acc: 0.5762 - val_loss: 1.2019 - val_acc: 0.5782\n",
      "Epoch 8/20\n",
      "50000/50000 [==============================] - 153s - loss: 1.1595 - acc: 0.5877 - val_loss: 1.1562 - val_acc: 0.5846\n",
      "Epoch 9/20\n",
      "50000/50000 [==============================] - 152s - loss: 1.1281 - acc: 0.6010 - val_loss: 1.1460 - val_acc: 0.5872\n",
      "Epoch 10/20\n",
      "50000/50000 [==============================] - 153s - loss: 1.1006 - acc: 0.6114 - val_loss: 1.1072 - val_acc: 0.6111\n",
      "Epoch 11/20\n",
      "50000/50000 [==============================] - 152s - loss: 1.0753 - acc: 0.6211 - val_loss: 1.0927 - val_acc: 0.6087\n",
      "Epoch 12/20\n",
      "50000/50000 [==============================] - 161s - loss: 1.0490 - acc: 0.6294 - val_loss: 1.0751 - val_acc: 0.6199\n",
      "Epoch 13/20\n",
      "50000/50000 [==============================] - 198s - loss: 1.0261 - acc: 0.6374 - val_loss: 1.0672 - val_acc: 0.6232\n",
      "Epoch 14/20\n",
      "50000/50000 [==============================] - 198s - loss: 1.0049 - acc: 0.6463 - val_loss: 1.0440 - val_acc: 0.6308\n",
      "Epoch 15/20\n",
      "50000/50000 [==============================] - 203s - loss: 0.9821 - acc: 0.6532 - val_loss: 1.0624 - val_acc: 0.6258\n",
      "Epoch 16/20\n",
      "50000/50000 [==============================] - 188s - loss: 0.9642 - acc: 0.6590 - val_loss: 1.0095 - val_acc: 0.6412\n",
      "Epoch 17/20\n",
      "50000/50000 [==============================] - 179s - loss: 0.9453 - acc: 0.6697 - val_loss: 1.0134 - val_acc: 0.6429\n",
      "Epoch 18/20\n",
      "50000/50000 [==============================] - 172s - loss: 0.9282 - acc: 0.6726 - val_loss: 0.9929 - val_acc: 0.6503\n",
      "Epoch 19/20\n",
      "50000/50000 [==============================] - 161s - loss: 0.9053 - acc: 0.6823 - val_loss: 0.9734 - val_acc: 0.6571\n",
      "Epoch 20/20\n",
      "50000/50000 [==============================] - 153s - loss: 0.8923 - acc: 0.6867 - val_loss: 0.9623 - val_acc: 0.6593\n",
      "10000/10000 [==============================] - 8s     \n",
      "   26 | 56m50s |    0.65930 |    0.0001 | 1024.0000 | \n",
      "Final Results\n",
      "DEEP Bayes OPTI: 0.721400\n"
     ]
    }
   ],
   "source": [
    "#Baysesian Optimization\n",
    "#Import library\n",
    "from bayes_opt import BayesianOptimization\n",
    "\n",
    "#The region of search\n",
    "deep_opti=BayesianOptimization(bo,{'num':(10,1024),'lr':(0.0001,0.01)},verbose=1)\n",
    "#parameters of bayesian optimization\n",
    "#set gp_params as the sklearn's default parameters\n",
    "gp_params = {\"theta0\": 0.1, \"thetaL\": None, \"thetaU\": None, \"random_start\": 1}\n",
    "#set acquision function as the GP Upper Confidence Bound and kappa as 2.576 which is the reccomended parameter.\n",
    "deep_opti.maximize(init_points=25, n_iter=1, acq='ucb', kappa=2.576,**gp_params)\n",
    "\n",
    "#Result\n",
    "print('Final Results')\n",
    "#Show the best score\n",
    "print('DEEP Bayes OPTI: %f' % deep_opti.res['max']['max_val'])\n"
   ]
  },
  {
   "cell_type": "code",
   "execution_count": 178,
   "metadata": {
    "collapsed": false
   },
   "outputs": [
    {
     "name": "stdout",
     "output_type": "stream",
     "text": [
      "{'num': 204.31429417778924, 'lr': 0.00059747671749674582}\n"
     ]
    }
   ],
   "source": [
    "#Show the best parameters\n",
    "print( deep_opti.res['max']['max_params'])"
   ]
  },
  {
   "cell_type": "markdown",
   "metadata": {},
   "source": [
    "# Final model(optimized parameters by bayesian optimization)\n",
    "\n",
    "As for the \"num\", I set it 204 since the number should be integer."
   ]
  },
  {
   "cell_type": "code",
   "execution_count": 244,
   "metadata": {
    "collapsed": false
   },
   "outputs": [
    {
     "name": "stdout",
     "output_type": "stream",
     "text": [
      "Train on 50000 samples, validate on 10000 samples\n",
      "Epoch 1/20\n",
      "50000/50000 [==============================] - 149s - loss: 1.6082 - acc: 0.4069 - val_loss: 1.3924 - val_acc: 0.4952\n",
      "Epoch 2/20\n",
      "50000/50000 [==============================] - 161s - loss: 1.2467 - acc: 0.5545 - val_loss: 1.1853 - val_acc: 0.5839\n",
      "Epoch 3/20\n",
      "50000/50000 [==============================] - 150s - loss: 1.0948 - acc: 0.6102 - val_loss: 1.0660 - val_acc: 0.6282\n",
      "Epoch 4/20\n",
      "50000/50000 [==============================] - 148s - loss: 0.9930 - acc: 0.6479 - val_loss: 1.0228 - val_acc: 0.6431\n",
      "Epoch 5/20\n",
      "50000/50000 [==============================] - 147s - loss: 0.9141 - acc: 0.6757 - val_loss: 0.9332 - val_acc: 0.6694\n",
      "Epoch 6/20\n",
      "50000/50000 [==============================] - 146s - loss: 0.8586 - acc: 0.6985 - val_loss: 0.8971 - val_acc: 0.6911\n",
      "Epoch 7/20\n",
      "50000/50000 [==============================] - 147s - loss: 0.8084 - acc: 0.7159 - val_loss: 0.9190 - val_acc: 0.6790\n",
      "Epoch 8/20\n",
      "50000/50000 [==============================] - 147s - loss: 0.7651 - acc: 0.7292 - val_loss: 0.8410 - val_acc: 0.7065\n",
      "Epoch 9/20\n",
      "50000/50000 [==============================] - 146s - loss: 0.7325 - acc: 0.7417 - val_loss: 0.8590 - val_acc: 0.7015\n",
      "Epoch 10/20\n",
      "50000/50000 [==============================] - 146s - loss: 0.6984 - acc: 0.7522 - val_loss: 0.8873 - val_acc: 0.6934\n",
      "Epoch 11/20\n",
      "50000/50000 [==============================] - 146s - loss: 0.6623 - acc: 0.7666 - val_loss: 0.8214 - val_acc: 0.7222\n",
      "Epoch 12/20\n",
      "50000/50000 [==============================] - 146s - loss: 0.6360 - acc: 0.7764 - val_loss: 0.8119 - val_acc: 0.7262\n",
      "Epoch 13/20\n",
      "50000/50000 [==============================] - 146s - loss: 0.6115 - acc: 0.7829 - val_loss: 0.7982 - val_acc: 0.7303\n",
      "Epoch 14/20\n",
      "50000/50000 [==============================] - 146s - loss: 0.5896 - acc: 0.7917 - val_loss: 0.7893 - val_acc: 0.7326\n",
      "Epoch 15/20\n",
      "50000/50000 [==============================] - 146s - loss: 0.5654 - acc: 0.7988 - val_loss: 0.8162 - val_acc: 0.7294\n",
      "Epoch 16/20\n",
      "50000/50000 [==============================] - 146s - loss: 0.5436 - acc: 0.8066 - val_loss: 0.8090 - val_acc: 0.7318\n",
      "Epoch 17/20\n",
      "50000/50000 [==============================] - 146s - loss: 0.5247 - acc: 0.8141 - val_loss: 0.8374 - val_acc: 0.7253\n",
      "Epoch 18/20\n",
      "50000/50000 [==============================] - 146s - loss: 0.5047 - acc: 0.8198 - val_loss: 0.8660 - val_acc: 0.7237\n",
      "Epoch 19/20\n",
      "50000/50000 [==============================] - 146s - loss: 0.4841 - acc: 0.8278 - val_loss: 0.9183 - val_acc: 0.7212\n",
      "10000/10000 [==============================] - 7s     \n",
      "0.7212\n"
     ]
    }
   ],
   "source": [
    "model_opti2 = Sequential()\n",
    "model_opti2.add(Convolution2D(32,3,3,border_mode='same',input_shape=(3,32,32)))\n",
    "model_opti2.add(Activation('relu'))\n",
    "model_opti2.add(MaxPooling2D(pool_size=(2,2)))\n",
    "\n",
    "model_opti2.add(Convolution2D(32,3,3,border_mode='same'))\n",
    "model_opti2.add(Activation('relu'))\n",
    "model_opti2.add(MaxPooling2D(pool_size=(2,2)))\n",
    "\n",
    "model_opti2.add(Convolution2D(32,3,3,border_mode='same'))\n",
    "model_opti2.add(Activation('relu'))\n",
    "model_opti2.add(MaxPooling2D(pool_size=(2,2)))\n",
    "\n",
    "model_opti2.add(Convolution2D(32,3,3,border_mode='same'))\n",
    "model_opti2.add(Activation('relu'))\n",
    "model_opti2.add(MaxPooling2D(pool_size=(2,2)))\n",
    "    \n",
    "model_opti2.add(Flatten())\n",
    "model_opti2.add(Dense(output_dim=204,activation='relu'))\n",
    "model_opti2.add(Dense(output_dim=10,input_dim=204))\n",
    "model_opti2.add(Activation('softmax'))\n",
    "early_stopping=EarlyStopping(monitor='val_loss', patience=4, verbose=0, mode='auto')   \n",
    "adam = Adam(lr= 0.000597)\n",
    "   \n",
    "    \n",
    "model_opti2.compile(loss='categorical_crossentropy',\n",
    "              optimizer=adam,\n",
    "              metrics=['accuracy'])\n",
    "res_opti2=model_opti2.fit(X_train,y_train,\n",
    "              batch_size=batch_size,\n",
    "              nb_epoch=nb_epoch,\n",
    "              validation_data=(X_test, y_test),\n",
    "              shuffle=True,\n",
    "             callbacks=[early_stopping])\n",
    "_,score_opti2= model_opti2.evaluate(X_test, y_test, batch_size=batch_size,verbose=1)\n",
    "    \n",
    "print (score_opti2)"
   ]
  },
  {
   "cell_type": "markdown",
   "metadata": {},
   "source": [
    "# Visualization"
   ]
  },
  {
   "cell_type": "code",
   "execution_count": 245,
   "metadata": {
    "collapsed": false
   },
   "outputs": [
    {
     "name": "stdout",
     "output_type": "stream",
     "text": [
      "10000/10000 [==============================] - 8s     \n"
     ]
    }
   ],
   "source": [
    "#Predicted classes for test data(The output is not one-hot vector, but the number between 0 to 9)\n",
    "output=model_opti2.predict_classes( X_test, batch_size=batch_size, verbose=1)"
   ]
  },
  {
   "cell_type": "code",
   "execution_count": 248,
   "metadata": {
    "collapsed": true
   },
   "outputs": [],
   "source": [
    "#Change the output above into one-hot vector\n",
    "output_oh=np_utils.to_categorical(output, nb_classes)"
   ]
  },
  {
   "cell_type": "code",
   "execution_count": 272,
   "metadata": {
    "collapsed": false
   },
   "outputs": [],
   "source": [
    "#make the list of  index which is miss classified anf correctly classified\n",
    "miss_classified=[]\n",
    "correct=[]\n",
    "for i in range(len(output_oh)):\n",
    "    if not all(output_oh[i]==y_test[i]):\n",
    "        miss_classified.append(i)\n",
    "    else:\n",
    "        correct.append(i)"
   ]
  },
  {
   "cell_type": "code",
   "execution_count": 252,
   "metadata": {
    "collapsed": false,
    "scrolled": false
   },
   "outputs": [],
   "source": [
    "#make a list of label which is miss classified\n",
    "label_miss=[]\n",
    "for miss in miss_classified:\n",
    "   # print Y_test[miss]\n",
    "    label_miss.append(Y_test[miss])\n",
    "    \n",
    "#make a list of label which is correctly classified    \n",
    "label_correct=[]\n",
    "for cor in correct:\n",
    "    label_correct.append(Y_test[cor])"
   ]
  },
  {
   "cell_type": "code",
   "execution_count": 296,
   "metadata": {
    "collapsed": false
   },
   "outputs": [
    {
     "data": {
      "image/png": "[encoded data removed]",
      "text/plain": [
       "<matplotlib.figure.Figure at 0x155331c10>"
      ]
     },
     "metadata": {},
     "output_type": "display_data"
    }
   ],
   "source": [
    "#Print the miss classified pictures\n",
    "nclasses = 10\n",
    "pos = 1\n",
    "for i in range(nclasses):\n",
    "    # Get the index list of class i image\n",
    "    targets = np.where(Y_test == i)[0]\n",
    "    #print targets\n",
    "    np.random.shuffle(targets)\n",
    "    # Print the first 10 pictures for each class\n",
    "    for idx in targets[:10]:\n",
    "        plt.subplot(10, 10, pos)\n",
    "        img = X_test[idx]\n",
    "        # (channel, row, column) => (row, column, channel)\n",
    "        plt.imshow(img.reshape(3, 32, 32).transpose(1, 2, 0))\n",
    "        plt.axis('off')\n",
    "        pos += 1\n",
    "plt.show()\n"
   ]
  },
  {
   "cell_type": "code",
   "execution_count": 255,
   "metadata": {
    "collapsed": false
   },
   "outputs": [
    {
     "data": {
      "text/plain": [
       "(0, 9)"
      ]
     },
     "execution_count": 255,
     "metadata": {},
     "output_type": "execute_result"
    },
    {
     "data": {
      "image/png": "[encoded data removed]",
      "text/plain": [
       "<matplotlib.figure.Figure at 0x126da6cd0>"
      ]
     },
     "metadata": {},
     "output_type": "display_data"
    }
   ],
   "source": [
    "#Plot the distribution of miss classified data\n",
    "plt.hist(label_miss)\n",
    "#sns.distplot(label_miss,kde=False,rug=False,color='r')\n",
    "plt.xticks(fontsize=15)\n",
    "plt.yticks(fontsize=15)\n",
    "plt.xlabel('Label',fontsize=15)\n",
    "plt.ylabel('Frequency',fontsize=15)\n",
    "plt.xlim(0,9)"
   ]
  },
  {
   "cell_type": "code",
   "execution_count": 256,
   "metadata": {
    "collapsed": false
   },
   "outputs": [
    {
     "data": {
      "text/plain": [
       "(0, 9)"
      ]
     },
     "execution_count": 256,
     "metadata": {},
     "output_type": "execute_result"
    },
    {
     "data": {
      "image/png": "[encoded data removed]",
      "text/plain": [
       "<matplotlib.figure.Figure at 0x14f4e2350>"
      ]
     },
     "metadata": {},
     "output_type": "display_data"
    }
   ],
   "source": [
    "#Plot the distribution of the correctly classied data\n",
    "plt.hist(label_correct)\n",
    "#sns.distplot(label_miss,kde=False,rug=False,color='r')\n",
    "plt.xticks(fontsize=15)\n",
    "plt.yticks(fontsize=15)\n",
    "plt.xlabel('Label',fontsize=15)\n",
    "plt.ylabel('Frequency',fontsize=15)\n",
    "plt.xlim(0,9)"
   ]
  },
  {
   "cell_type": "code",
   "execution_count": 257,
   "metadata": {
    "collapsed": false
   },
   "outputs": [
    {
     "data": {
      "text/plain": [
       "(0, 9)"
      ]
     },
     "execution_count": 257,
     "metadata": {},
     "output_type": "execute_result"
    },
    {
     "data": {
      "image/png": "[encoded data removed]",
      "text/plain": [
       "<matplotlib.figure.Figure at 0x14f4e2310>"
      ]
     },
     "metadata": {},
     "output_type": "display_data"
    }
   ],
   "source": [
    "#Plot the distribution of the predicted data\n",
    "\n",
    "plt.hist(output)\n",
    "#sns.distplot(label_miss,kde=False,rug=False,color='r')\n",
    "plt.xticks(fontsize=15)\n",
    "plt.yticks(fontsize=15)\n",
    "plt.xlabel('Label',fontsize=15)\n",
    "plt.ylabel('Frequency',fontsize=15)\n",
    "plt.xlim(0,9)"
   ]
  },
  {
   "cell_type": "code",
   "execution_count": 258,
   "metadata": {
    "collapsed": false
   },
   "outputs": [
    {
     "data": {
      "text/plain": [
       "array([[729,  24,  50,  19,  16,  19,   4,  22,  42,  32],\n",
       "       [ 12, 848,   7,  11,   2,   8,  13,   5,  24,  77],\n",
       "       [ 54,   5, 663, 101,  87,  78,  61,  56,  10,   8],\n",
       "       [ 11,   6,  32, 459,  35, 133,  43,  30,   4,   7],\n",
       "       [ 36,   2, 106, 110, 755,  79,  49,  98,   8,  12],\n",
       "       [  6,   1,  41, 142,  18, 577,  15,  44,   2,   4],\n",
       "       [  8,   3,  56,  73,  33,  36, 795,  12,   1,   5],\n",
       "       [  7,   0,  17,  18,  33,  39,   2, 692,   3,   8],\n",
       "       [104,  38,  16,  37,  16,  18,  14,   5, 884,  37],\n",
       "       [ 33,  73,  12,  30,   5,  13,   4,  36,  22, 810]])"
      ]
     },
     "execution_count": 258,
     "metadata": {},
     "output_type": "execute_result"
    }
   ],
   "source": [
    "#import library for making confusion matrix\n",
    "from sklearn.metrics import confusion_matrix\n",
    "#make confusion matrix\n",
    "confusion_matrix(output,Y_test)"
   ]
  },
  {
   "cell_type": "code",
   "execution_count": 259,
   "metadata": {
    "collapsed": false
   },
   "outputs": [
    {
     "data": {
      "text/plain": [
       "<matplotlib.text.Text at 0x14fca7290>"
      ]
     },
     "execution_count": 259,
     "metadata": {},
     "output_type": "execute_result"
    },
    {
     "data": {
      "image/png": "[encoded data removed]",
      "text/plain": [
       "<matplotlib.figure.Figure at 0x14fc5c810>"
      ]
     },
     "metadata": {},
     "output_type": "display_data"
    }
   ],
   "source": [
    "#make heatmap from the confusion matrix\n",
    "sns.heatmap(confusion_matrix(output,Y_test))\n",
    "plt.xlabel(\"Predicted label\",fontsize=15)\n",
    "plt.ylabel(\"True label\",fontsize=15)"
   ]
  },
  {
   "cell_type": "code",
   "execution_count": 264,
   "metadata": {
    "collapsed": false
   },
   "outputs": [
    {
     "data": {
      "text/plain": [
       "<matplotlib.legend.Legend at 0x151f2ec10>"
      ]
     },
     "execution_count": 264,
     "metadata": {},
     "output_type": "execute_result"
    },
    {
     "data": {
      "image/png": "[encoded data removed]",
      "text/plain": [
       "<matplotlib.figure.Figure at 0x151dbe210>"
      ]
     },
     "metadata": {},
     "output_type": "display_data"
    }
   ],
   "source": [
    "#Accuracy score for the training and test(Final model)\n",
    "\n",
    "#number of epoch is 19 because of the early stopping\n",
    "x=range(nb_epoch-1)\n",
    "plt.plot(x,res_opti2.history['acc'],label='Training')\n",
    "plt.plot(x,res_opti2.history['val_acc'],label='Test')\n",
    "plt.xlabel('Number of Epochs')\n",
    "plt.ylabel('Accuracy Score')\n",
    "plt.legend(loc='best')\n"
   ]
  },
  {
   "cell_type": "code",
   "execution_count": 265,
   "metadata": {
    "collapsed": false
   },
   "outputs": [
    {
     "data": {
      "text/plain": [
       "<matplotlib.legend.Legend at 0x1522ca090>"
      ]
     },
     "execution_count": 265,
     "metadata": {},
     "output_type": "execute_result"
    },
    {
     "data": {
      "image/png": "[encoded data removed]",
      "text/plain": [
       "<matplotlib.figure.Figure at 0x151e60790>"
      ]
     },
     "metadata": {},
     "output_type": "display_data"
    }
   ],
   "source": [
    "#Loss of training and test (Final model)\n",
    "\n",
    "##number of epoch is 19 because of the early stopping\n",
    "x=range(nb_epoch-1)\n",
    "plt.plot(x,res_opti2.history['loss'],label='Training')\n",
    "plt.plot(x,res_opti2.history['val_loss'],label='Test')\n",
    "plt.xlabel('Number of Epochs')\n",
    "plt.ylabel('Loss')\n",
    "plt.legend(loc='best')\n"
   ]
  },
  {
   "cell_type": "markdown",
   "metadata": {},
   "source": [
    "# Validation"
   ]
  },
  {
   "cell_type": "code",
   "execution_count": 350,
   "metadata": {
    "collapsed": true
   },
   "outputs": [],
   "source": [
    "#make function of the benchmark model\n",
    "def benchmark(X_train,X_test,y_train,y_test):\n",
    "    model4 = Sequential()\n",
    "    model4.add(Convolution2D(32,3,3,border_mode='same',input_shape=(3,32,32)))\n",
    "    model4.add(Activation('relu'))\n",
    "    model4.add(MaxPooling2D(pool_size=(2,2)))\n",
    "\n",
    "    model4.add(Convolution2D(32,3,3,border_mode='same'))\n",
    "    model4.add(Activation('relu'))\n",
    "    model4.add(MaxPooling2D(pool_size=(2,2)))\n",
    "\n",
    "    model4.add(Convolution2D(32,3,3,border_mode='same'))\n",
    "    model4.add(Activation('relu'))\n",
    "    model4.add(MaxPooling2D(pool_size=(2,2)))\n",
    "\n",
    "    model4.add(Convolution2D(32,3,3,border_mode='same'))\n",
    "    model4.add(Activation('relu'))\n",
    "    model4.add(MaxPooling2D(pool_size=(2,2)))\n",
    "\n",
    "    #model4.add(Convolution2D(32,3,3,border_mode='same'))\n",
    "    #model4.add(Activation('relu'))\n",
    "    #model4.add(MaxPooling2D(pool_size=(2,2)))\n",
    "\n",
    "    model4.add(Flatten())\n",
    "    model4.add(Dense(output_dim=512,activation='relu'))\n",
    "    model4.add(Dense(output_dim=10,input_dim=512))\n",
    "    model4.add(Activation('softmax'))\n",
    "\n",
    "\n",
    "    model4.compile(loss='categorical_crossentropy',\n",
    "              optimizer='Adam',\n",
    "              metrics=['accuracy'])\n",
    "    #train the model\n",
    "    res4 = model4.fit(X_train,y_train,\n",
    "              batch_size=batch_size,\n",
    "              nb_epoch=nb_epoch,\n",
    "              validation_data=(X_test, y_test),\n",
    "              shuffle=True)\n",
    "    acc_benchmark.append(model4.evaluate(X_test,y_test,batch_size=batch_size,verbose=1)[1])\n",
    "    return acc_benchmark"
   ]
  },
  {
   "cell_type": "code",
   "execution_count": 351,
   "metadata": {
    "collapsed": true
   },
   "outputs": [],
   "source": [
    "#make function of the final model\n",
    "def final_model(X_train,X_test,y_train,y_test):\n",
    "    model_opti2 = Sequential()\n",
    "    model_opti2.add(Convolution2D(32,3,3,border_mode='same',input_shape=(3,32,32)))\n",
    "    model_opti2.add(Activation('relu'))\n",
    "    model_opti2.add(MaxPooling2D(pool_size=(2,2)))\n",
    "\n",
    "    model_opti2.add(Convolution2D(32,3,3,border_mode='same'))\n",
    "    model_opti2.add(Activation('relu'))\n",
    "    model_opti2.add(MaxPooling2D(pool_size=(2,2)))\n",
    "\n",
    "    model_opti2.add(Convolution2D(32,3,3,border_mode='same'))\n",
    "    model_opti2.add(Activation('relu'))\n",
    "    model_opti2.add(MaxPooling2D(pool_size=(2,2)))\n",
    "\n",
    "    model_opti2.add(Convolution2D(32,3,3,border_mode='same'))\n",
    "    model_opti2.add(Activation('relu'))\n",
    "    model_opti2.add(MaxPooling2D(pool_size=(2,2)))\n",
    "    \n",
    "    model_opti2.add(Flatten())\n",
    "    model_opti2.add(Dense(output_dim=204,activation='relu'))\n",
    "    model_opti2.add(Dense(output_dim=10,input_dim=204))\n",
    "    model_opti2.add(Activation('softmax'))\n",
    "    early_stopping=EarlyStopping(monitor='val_loss', patience=4, verbose=0, mode='auto')   \n",
    "    adam = Adam(lr= 0.000597)\n",
    "   \n",
    "    \n",
    "    model_opti2.compile(loss='categorical_crossentropy',\n",
    "              optimizer=adam,\n",
    "              metrics=['accuracy'])\n",
    "    res_opti2=model_opti2.fit(X_train,y_train,\n",
    "              batch_size=batch_size,\n",
    "              nb_epoch=nb_epoch,\n",
    "              validation_data=(X_test, y_test),\n",
    "              shuffle=True,\n",
    "             callbacks=[early_stopping])\n",
    "    acc_final.append(model_opti2.evaluate(X_test, y_test, batch_size=batch_size,verbose=1)[1])\n",
    "    return acc_final"
   ]
  },
  {
   "cell_type": "code",
   "execution_count": 338,
   "metadata": {
    "collapsed": true
   },
   "outputs": [],
   "source": [
    "#import library for cross validation\n",
    "from sklearn.cross_validation import StratifiedKFold"
   ]
  },
  {
   "cell_type": "code",
   "execution_count": 363,
   "metadata": {
    "collapsed": true
   },
   "outputs": [],
   "source": [
    "#load the data\n",
    "X_train,X_test,Y_train,Y_test = load_cifar10(\"cifar-10-batches-py\")"
   ]
  },
  {
   "cell_type": "code",
   "execution_count": 364,
   "metadata": {
    "collapsed": false
   },
   "outputs": [],
   "source": [
    "#Combine the training and test data\n",
    "X=np.concatenate((X_train,X_test),axis=0)\n",
    "X=np.vstack((X_train,X_test))\n",
    "X=np.r_[X_train,X_test]"
   ]
  },
  {
   "cell_type": "code",
   "execution_count": 365,
   "metadata": {
    "collapsed": true
   },
   "outputs": [],
   "source": [
    "#Reshape the data\n",
    "X= X.reshape((len(X),3,32,32))"
   ]
  },
  {
   "cell_type": "code",
   "execution_count": 366,
   "metadata": {
    "collapsed": false
   },
   "outputs": [],
   "source": [
    "#Combine the training and test data\n",
    "Y=np.concatenate((Y_train,Y_test),axis=0)"
   ]
  },
  {
   "cell_type": "code",
   "execution_count": 367,
   "metadata": {
    "collapsed": false
   },
   "outputs": [],
   "source": [
    "#Split the combined data into 6 different dataset(Each dataset has the same distribution)\n",
    "kf=StratifiedKFold(Y,n_folds=6,random_state=1)"
   ]
  },
  {
   "cell_type": "code",
   "execution_count": 368,
   "metadata": {
    "collapsed": false
   },
   "outputs": [
    {
     "name": "stdout",
     "output_type": "stream",
     "text": [
      "Train on 50000 samples, validate on 10000 samples\n",
      "Epoch 1/20\n",
      "50000/50000 [==============================] - 180s - loss: 1.5265 - acc: 0.4402 - val_loss: 1.3085 - val_acc: 0.5273\n",
      "Epoch 2/20\n",
      "50000/50000 [==============================] - 161s - loss: 1.1744 - acc: 0.5777 - val_loss: 1.0676 - val_acc: 0.6229\n",
      "Epoch 3/20\n",
      "50000/50000 [==============================] - 171s - loss: 1.0091 - acc: 0.6398 - val_loss: 1.0376 - val_acc: 0.6336\n",
      "Epoch 4/20\n",
      "50000/50000 [==============================] - 173s - loss: 0.9160 - acc: 0.6748 - val_loss: 0.9113 - val_acc: 0.6716\n",
      "Epoch 5/20\n",
      "50000/50000 [==============================] - 173s - loss: 0.8455 - acc: 0.6993 - val_loss: 0.9191 - val_acc: 0.6768\n",
      "Epoch 6/20\n",
      "50000/50000 [==============================] - 171s - loss: 0.7903 - acc: 0.7211 - val_loss: 0.9285 - val_acc: 0.6644\n",
      "Epoch 7/20\n",
      "50000/50000 [==============================] - 168s - loss: 0.7412 - acc: 0.7381 - val_loss: 0.8477 - val_acc: 0.7005\n",
      "Epoch 8/20\n",
      "50000/50000 [==============================] - 168s - loss: 0.6969 - acc: 0.7510 - val_loss: 0.8405 - val_acc: 0.7037\n",
      "Epoch 9/20\n",
      "50000/50000 [==============================] - 168s - loss: 0.6575 - acc: 0.7677 - val_loss: 0.9233 - val_acc: 0.6835\n",
      "Epoch 10/20\n",
      "50000/50000 [==============================] - 166s - loss: 0.6281 - acc: 0.7770 - val_loss: 0.8201 - val_acc: 0.7194\n",
      "Epoch 11/20\n",
      "50000/50000 [==============================] - 169s - loss: 0.5964 - acc: 0.7875 - val_loss: 0.8270 - val_acc: 0.7185\n",
      "Epoch 12/20\n",
      "50000/50000 [==============================] - 167s - loss: 0.5647 - acc: 0.7982 - val_loss: 0.8527 - val_acc: 0.7179\n",
      "Epoch 13/20\n",
      "50000/50000 [==============================] - 167s - loss: 0.5345 - acc: 0.8089 - val_loss: 0.9013 - val_acc: 0.7056\n",
      "Epoch 14/20\n",
      "50000/50000 [==============================] - 168s - loss: 0.5095 - acc: 0.8183 - val_loss: 0.8560 - val_acc: 0.7204\n",
      "Epoch 15/20\n",
      "50000/50000 [==============================] - 167s - loss: 0.4831 - acc: 0.8271 - val_loss: 0.9168 - val_acc: 0.7203\n",
      "Epoch 16/20\n",
      "50000/50000 [==============================] - 168s - loss: 0.4616 - acc: 0.8335 - val_loss: 0.9351 - val_acc: 0.7135\n",
      "Epoch 17/20\n",
      "50000/50000 [==============================] - 166s - loss: 0.4372 - acc: 0.8420 - val_loss: 0.9234 - val_acc: 0.7164\n",
      "Epoch 18/20\n",
      "50000/50000 [==============================] - 167s - loss: 0.4134 - acc: 0.8516 - val_loss: 0.9987 - val_acc: 0.7100\n",
      "Epoch 19/20\n",
      "50000/50000 [==============================] - 177s - loss: 0.3915 - acc: 0.8584 - val_loss: 0.9660 - val_acc: 0.7131\n",
      "Epoch 20/20\n",
      "50000/50000 [==============================] - 182s - loss: 0.3735 - acc: 0.8653 - val_loss: 1.0570 - val_acc: 0.7081\n",
      "10000/10000 [==============================] - 10s    \n",
      "Train on 50000 samples, validate on 10000 samples\n",
      "Epoch 1/20\n",
      "50000/50000 [==============================] - 178s - loss: 1.5826 - acc: 0.4188 - val_loss: 1.3110 - val_acc: 0.5144\n",
      "Epoch 2/20\n",
      "50000/50000 [==============================] - 155s - loss: 1.2182 - acc: 0.5625 - val_loss: 1.1334 - val_acc: 0.5835\n",
      "Epoch 3/20\n",
      "50000/50000 [==============================] - 151s - loss: 1.0685 - acc: 0.6191 - val_loss: 1.0541 - val_acc: 0.6192\n",
      "Epoch 4/20\n",
      "50000/50000 [==============================] - 150s - loss: 0.9695 - acc: 0.6583 - val_loss: 0.9593 - val_acc: 0.6610\n",
      "Epoch 5/20\n",
      "50000/50000 [==============================] - 149s - loss: 0.9059 - acc: 0.6795 - val_loss: 0.9042 - val_acc: 0.6841\n",
      "Epoch 6/20\n",
      "50000/50000 [==============================] - 149s - loss: 0.8429 - acc: 0.7007 - val_loss: 0.8800 - val_acc: 0.6914\n",
      "Epoch 7/20\n",
      "50000/50000 [==============================] - 151s - loss: 0.7981 - acc: 0.7189 - val_loss: 0.8340 - val_acc: 0.7103\n",
      "Epoch 8/20\n",
      "50000/50000 [==============================] - 149s - loss: 0.7567 - acc: 0.7334 - val_loss: 0.8755 - val_acc: 0.6909\n",
      "Epoch 9/20\n",
      "50000/50000 [==============================] - 148s - loss: 0.7162 - acc: 0.7469 - val_loss: 0.8356 - val_acc: 0.7051\n",
      "Epoch 10/20\n",
      "50000/50000 [==============================] - 148s - loss: 0.6894 - acc: 0.7565 - val_loss: 0.8612 - val_acc: 0.7006\n",
      "Epoch 11/20\n",
      "50000/50000 [==============================] - 149s - loss: 0.6558 - acc: 0.7687 - val_loss: 0.8337 - val_acc: 0.7066\n",
      "Epoch 12/20\n",
      "50000/50000 [==============================] - 149s - loss: 0.6344 - acc: 0.7781 - val_loss: 0.7963 - val_acc: 0.7239\n",
      "Epoch 13/20\n",
      "50000/50000 [==============================] - 149s - loss: 0.6042 - acc: 0.7867 - val_loss: 0.7871 - val_acc: 0.7286\n",
      "Epoch 14/20\n",
      "50000/50000 [==============================] - 149s - loss: 0.5840 - acc: 0.7939 - val_loss: 0.8067 - val_acc: 0.7229\n",
      "Epoch 15/20\n",
      "50000/50000 [==============================] - 149s - loss: 0.5650 - acc: 0.8003 - val_loss: 0.8066 - val_acc: 0.7292\n",
      "Epoch 16/20\n",
      "50000/50000 [==============================] - 149s - loss: 0.5435 - acc: 0.8076 - val_loss: 0.8005 - val_acc: 0.7295\n",
      "Epoch 17/20\n",
      "50000/50000 [==============================] - 148s - loss: 0.5232 - acc: 0.8148 - val_loss: 0.8256 - val_acc: 0.7304\n",
      "Epoch 18/20\n",
      "50000/50000 [==============================] - 148s - loss: 0.5065 - acc: 0.8194 - val_loss: 0.8472 - val_acc: 0.7235\n",
      "10000/10000 [==============================] - 8s     \n",
      "Train on 50000 samples, validate on 10000 samples\n",
      "Epoch 1/20\n",
      "50000/50000 [==============================] - 154s - loss: 1.5042 - acc: 0.4457 - val_loss: 1.2840 - val_acc: 0.5278\n",
      "Epoch 2/20\n",
      "50000/50000 [==============================] - 151s - loss: 1.1373 - acc: 0.5892 - val_loss: 1.1491 - val_acc: 0.5857\n",
      "Epoch 3/20\n",
      "50000/50000 [==============================] - 152s - loss: 0.9697 - acc: 0.6540 - val_loss: 1.0556 - val_acc: 0.6268\n",
      "Epoch 4/20\n",
      "50000/50000 [==============================] - 153s - loss: 0.8813 - acc: 0.6874 - val_loss: 0.9359 - val_acc: 0.6660\n",
      "Epoch 5/20\n",
      "50000/50000 [==============================] - 152s - loss: 0.8136 - acc: 0.7095 - val_loss: 0.9302 - val_acc: 0.6782\n",
      "Epoch 6/20\n",
      "50000/50000 [==============================] - 150s - loss: 0.7565 - acc: 0.7317 - val_loss: 0.8956 - val_acc: 0.6883\n",
      "Epoch 7/20\n",
      "50000/50000 [==============================] - 151s - loss: 0.7135 - acc: 0.7475 - val_loss: 0.9002 - val_acc: 0.6948\n",
      "Epoch 8/20\n",
      "50000/50000 [==============================] - 151s - loss: 0.6650 - acc: 0.7631 - val_loss: 0.8558 - val_acc: 0.7143\n",
      "Epoch 9/20\n",
      "50000/50000 [==============================] - 155s - loss: 0.6326 - acc: 0.7741 - val_loss: 0.8672 - val_acc: 0.7025\n",
      "Epoch 10/20\n",
      "50000/50000 [==============================] - 150s - loss: 0.5961 - acc: 0.7888 - val_loss: 0.8542 - val_acc: 0.7186\n",
      "Epoch 11/20\n",
      "50000/50000 [==============================] - 150s - loss: 0.5657 - acc: 0.7957 - val_loss: 0.8520 - val_acc: 0.7253\n",
      "Epoch 12/20\n",
      "50000/50000 [==============================] - 150s - loss: 0.5282 - acc: 0.8101 - val_loss: 0.8539 - val_acc: 0.7190\n",
      "Epoch 13/20\n",
      "50000/50000 [==============================] - 150s - loss: 0.5015 - acc: 0.8197 - val_loss: 0.9317 - val_acc: 0.7161\n",
      "Epoch 14/20\n",
      "50000/50000 [==============================] - 149s - loss: 0.4787 - acc: 0.8298 - val_loss: 0.9162 - val_acc: 0.7125\n",
      "Epoch 15/20\n",
      "50000/50000 [==============================] - 149s - loss: 0.4479 - acc: 0.8380 - val_loss: 0.9389 - val_acc: 0.7125\n",
      "Epoch 16/20\n",
      "50000/50000 [==============================] - 150s - loss: 0.4254 - acc: 0.8448 - val_loss: 0.9943 - val_acc: 0.7034\n",
      "Epoch 17/20\n",
      "50000/50000 [==============================] - 150s - loss: 0.3987 - acc: 0.8552 - val_loss: 1.0055 - val_acc: 0.7085\n",
      "Epoch 18/20\n",
      "50000/50000 [==============================] - 150s - loss: 0.3817 - acc: 0.8613 - val_loss: 1.0864 - val_acc: 0.6890\n",
      "Epoch 19/20\n",
      "50000/50000 [==============================] - 149s - loss: 0.3613 - acc: 0.8686 - val_loss: 1.1270 - val_acc: 0.7054\n",
      "Epoch 20/20\n",
      "50000/50000 [==============================] - 150s - loss: 0.3457 - acc: 0.8736 - val_loss: 1.1277 - val_acc: 0.7083\n",
      "10000/10000 [==============================] - 9s     \n",
      "Train on 50000 samples, validate on 10000 samples\n",
      "Epoch 1/20\n",
      "50000/50000 [==============================] - 152s - loss: 1.5712 - acc: 0.4201 - val_loss: 1.3517 - val_acc: 0.5127\n",
      "Epoch 2/20\n",
      "50000/50000 [==============================] - 151s - loss: 1.2221 - acc: 0.5583 - val_loss: 1.2598 - val_acc: 0.5523\n",
      "Epoch 3/20\n",
      "50000/50000 [==============================] - 150s - loss: 1.0564 - acc: 0.6225 - val_loss: 1.0144 - val_acc: 0.6364\n",
      "Epoch 4/20\n",
      "50000/50000 [==============================] - 153s - loss: 0.9609 - acc: 0.6591 - val_loss: 0.9684 - val_acc: 0.6627\n",
      "Epoch 5/20\n",
      "50000/50000 [==============================] - 152s - loss: 0.8834 - acc: 0.6876 - val_loss: 0.9429 - val_acc: 0.6659\n",
      "Epoch 6/20\n",
      "50000/50000 [==============================] - 152s - loss: 0.8310 - acc: 0.7076 - val_loss: 0.9066 - val_acc: 0.6833\n",
      "Epoch 7/20\n",
      "50000/50000 [==============================] - 152s - loss: 0.7834 - acc: 0.7222 - val_loss: 0.9626 - val_acc: 0.6683\n",
      "Epoch 8/20\n",
      "50000/50000 [==============================] - 153s - loss: 0.7437 - acc: 0.7398 - val_loss: 0.8522 - val_acc: 0.7007\n",
      "Epoch 9/20\n",
      "50000/50000 [==============================] - 152s - loss: 0.7140 - acc: 0.7490 - val_loss: 0.8222 - val_acc: 0.7132\n",
      "Epoch 10/20\n",
      "50000/50000 [==============================] - 151s - loss: 0.6773 - acc: 0.7609 - val_loss: 0.8252 - val_acc: 0.7104\n",
      "Epoch 11/20\n",
      "50000/50000 [==============================] - 152s - loss: 0.6493 - acc: 0.7699 - val_loss: 0.8081 - val_acc: 0.7212\n",
      "Epoch 12/20\n",
      "50000/50000 [==============================] - 154s - loss: 0.6204 - acc: 0.7813 - val_loss: 0.8275 - val_acc: 0.7142\n",
      "Epoch 13/20\n",
      "50000/50000 [==============================] - 152s - loss: 0.5969 - acc: 0.7911 - val_loss: 0.8357 - val_acc: 0.7104\n",
      "Epoch 14/20\n",
      "50000/50000 [==============================] - 151s - loss: 0.5752 - acc: 0.7969 - val_loss: 0.8247 - val_acc: 0.7232\n",
      "Epoch 15/20\n",
      "50000/50000 [==============================] - 151s - loss: 0.5543 - acc: 0.8064 - val_loss: 0.8279 - val_acc: 0.7293\n",
      "Epoch 16/20\n",
      "50000/50000 [==============================] - 152s - loss: 0.5351 - acc: 0.8115 - val_loss: 0.8149 - val_acc: 0.7236\n",
      "10000/10000 [==============================] - 8s     \n",
      "Train on 50000 samples, validate on 10000 samples\n",
      "Epoch 1/20\n",
      "50000/50000 [==============================] - 156s - loss: 1.5370 - acc: 0.4338 - val_loss: 1.2484 - val_acc: 0.5501\n",
      "Epoch 2/20\n",
      "50000/50000 [==============================] - 155s - loss: 1.1595 - acc: 0.5808 - val_loss: 1.0686 - val_acc: 0.6104\n",
      "Epoch 3/20\n",
      "50000/50000 [==============================] - 155s - loss: 1.0173 - acc: 0.6365 - val_loss: 0.9933 - val_acc: 0.6483\n",
      "Epoch 4/20\n",
      "50000/50000 [==============================] - 156s - loss: 0.9177 - acc: 0.6725 - val_loss: 0.9239 - val_acc: 0.6692\n",
      "Epoch 5/20\n",
      "50000/50000 [==============================] - 155s - loss: 0.8459 - acc: 0.7001 - val_loss: 0.9550 - val_acc: 0.6698\n",
      "Epoch 6/20\n",
      "50000/50000 [==============================] - 156s - loss: 0.7895 - acc: 0.7210 - val_loss: 0.8559 - val_acc: 0.6957\n",
      "Epoch 7/20\n",
      "50000/50000 [==============================] - 157s - loss: 0.7413 - acc: 0.7370 - val_loss: 0.8595 - val_acc: 0.7021\n",
      "Epoch 8/20\n",
      "50000/50000 [==============================] - 156s - loss: 0.6967 - acc: 0.7529 - val_loss: 0.8330 - val_acc: 0.7142\n",
      "Epoch 9/20\n",
      "50000/50000 [==============================] - 154s - loss: 0.6556 - acc: 0.7659 - val_loss: 0.8408 - val_acc: 0.7061\n",
      "Epoch 10/20\n",
      "50000/50000 [==============================] - 156s - loss: 0.6246 - acc: 0.7772 - val_loss: 0.8745 - val_acc: 0.6985\n",
      "Epoch 11/20\n",
      "50000/50000 [==============================] - 155s - loss: 0.5913 - acc: 0.7879 - val_loss: 0.9478 - val_acc: 0.6846\n",
      "Epoch 12/20\n",
      "50000/50000 [==============================] - 156s - loss: 0.5638 - acc: 0.7983 - val_loss: 0.8502 - val_acc: 0.7104\n",
      "Epoch 13/20\n",
      "50000/50000 [==============================] - 155s - loss: 0.5341 - acc: 0.8092 - val_loss: 0.8819 - val_acc: 0.7182\n",
      "Epoch 14/20\n",
      "50000/50000 [==============================] - 155s - loss: 0.5078 - acc: 0.8165 - val_loss: 0.8649 - val_acc: 0.7191\n",
      "Epoch 15/20\n",
      "50000/50000 [==============================] - 155s - loss: 0.4767 - acc: 0.8285 - val_loss: 0.9013 - val_acc: 0.7203\n",
      "Epoch 16/20\n",
      "50000/50000 [==============================] - 154s - loss: 0.4586 - acc: 0.8329 - val_loss: 0.9672 - val_acc: 0.7090\n",
      "Epoch 17/20\n",
      "50000/50000 [==============================] - 154s - loss: 0.4364 - acc: 0.8425 - val_loss: 0.9392 - val_acc: 0.7129\n",
      "Epoch 18/20\n",
      "50000/50000 [==============================] - 153s - loss: 0.4170 - acc: 0.8482 - val_loss: 1.0372 - val_acc: 0.7096\n",
      "Epoch 19/20\n",
      "50000/50000 [==============================] - 155s - loss: 0.3938 - acc: 0.8578 - val_loss: 1.0343 - val_acc: 0.7060\n",
      "Epoch 20/20\n",
      "50000/50000 [==============================] - 153s - loss: 0.3804 - acc: 0.8615 - val_loss: 1.1096 - val_acc: 0.6882\n",
      "10000/10000 [==============================] - 8s     \n",
      "Train on 50000 samples, validate on 10000 samples\n",
      "Epoch 1/20\n",
      "50000/50000 [==============================] - 151s - loss: 1.6042 - acc: 0.4107 - val_loss: 1.4118 - val_acc: 0.4857\n",
      "Epoch 2/20\n",
      "50000/50000 [==============================] - 150s - loss: 1.2571 - acc: 0.5476 - val_loss: 1.1615 - val_acc: 0.5835\n",
      "Epoch 3/20\n",
      "50000/50000 [==============================] - 153s - loss: 1.1051 - acc: 0.6086 - val_loss: 1.0645 - val_acc: 0.6277\n",
      "Epoch 4/20\n",
      "50000/50000 [==============================] - 153s - loss: 1.0112 - acc: 0.6422 - val_loss: 1.0367 - val_acc: 0.6310\n",
      "Epoch 5/20\n",
      "50000/50000 [==============================] - 152s - loss: 0.9409 - acc: 0.6692 - val_loss: 0.9436 - val_acc: 0.6614\n",
      "Epoch 6/20\n",
      "50000/50000 [==============================] - 152s - loss: 0.8736 - acc: 0.6935 - val_loss: 0.9175 - val_acc: 0.6704\n",
      "Epoch 7/20\n",
      "50000/50000 [==============================] - 152s - loss: 0.8284 - acc: 0.7089 - val_loss: 0.8574 - val_acc: 0.6995\n",
      "Epoch 8/20\n",
      "50000/50000 [==============================] - 152s - loss: 0.7867 - acc: 0.7250 - val_loss: 0.8737 - val_acc: 0.6925\n",
      "Epoch 9/20\n",
      "50000/50000 [==============================] - 152s - loss: 0.7535 - acc: 0.7346 - val_loss: 0.8597 - val_acc: 0.7013\n",
      "Epoch 10/20\n",
      "50000/50000 [==============================] - 152s - loss: 0.7193 - acc: 0.7489 - val_loss: 0.8110 - val_acc: 0.7142\n",
      "Epoch 11/20\n",
      "50000/50000 [==============================] - 154s - loss: 0.6911 - acc: 0.7572 - val_loss: 0.8104 - val_acc: 0.7204\n",
      "Epoch 12/20\n",
      "50000/50000 [==============================] - 153s - loss: 0.6647 - acc: 0.7666 - val_loss: 0.7802 - val_acc: 0.7245\n",
      "Epoch 13/20\n",
      "50000/50000 [==============================] - 153s - loss: 0.6418 - acc: 0.7753 - val_loss: 0.8154 - val_acc: 0.7261\n",
      "Epoch 14/20\n",
      "50000/50000 [==============================] - 152s - loss: 0.6159 - acc: 0.7827 - val_loss: 0.7979 - val_acc: 0.7251\n",
      "Epoch 15/20\n",
      "50000/50000 [==============================] - 157s - loss: 0.5968 - acc: 0.7894 - val_loss: 0.8246 - val_acc: 0.7183\n",
      "Epoch 16/20\n",
      "50000/50000 [==============================] - 155s - loss: 0.5734 - acc: 0.7968 - val_loss: 0.8026 - val_acc: 0.7342\n",
      "Epoch 17/20\n",
      "50000/50000 [==============================] - 153s - loss: 0.5542 - acc: 0.8054 - val_loss: 0.8294 - val_acc: 0.7254\n",
      "10000/10000 [==============================] - 8s     \n",
      "Train on 50000 samples, validate on 10000 samples\n",
      "Epoch 1/20\n",
      "50000/50000 [==============================] - 155s - loss: 1.5137 - acc: 0.4455 - val_loss: 1.2772 - val_acc: 0.5365\n",
      "Epoch 2/20\n",
      "50000/50000 [==============================] - 156s - loss: 1.1451 - acc: 0.5896 - val_loss: 1.1288 - val_acc: 0.5961\n",
      "Epoch 3/20\n",
      "50000/50000 [==============================] - 157s - loss: 1.0049 - acc: 0.6419 - val_loss: 1.0574 - val_acc: 0.6289\n",
      "Epoch 4/20\n",
      "50000/50000 [==============================] - 156s - loss: 0.9109 - acc: 0.6785 - val_loss: 1.0279 - val_acc: 0.6447\n",
      "Epoch 5/20\n",
      "50000/50000 [==============================] - 159s - loss: 0.8407 - acc: 0.7043 - val_loss: 0.9395 - val_acc: 0.6760\n",
      "Epoch 6/20\n",
      "50000/50000 [==============================] - 156s - loss: 0.7893 - acc: 0.7218 - val_loss: 0.8740 - val_acc: 0.6895\n",
      "Epoch 7/20\n",
      "50000/50000 [==============================] - 156s - loss: 0.7381 - acc: 0.7402 - val_loss: 0.9169 - val_acc: 0.6881\n",
      "Epoch 8/20\n",
      "50000/50000 [==============================] - 157s - loss: 0.7058 - acc: 0.7488 - val_loss: 0.8741 - val_acc: 0.6987\n",
      "Epoch 9/20\n",
      "50000/50000 [==============================] - 157s - loss: 0.6663 - acc: 0.7654 - val_loss: 0.8689 - val_acc: 0.7068\n",
      "Epoch 10/20\n",
      "50000/50000 [==============================] - 157s - loss: 0.6368 - acc: 0.7747 - val_loss: 0.8669 - val_acc: 0.7064\n",
      "Epoch 11/20\n",
      "50000/50000 [==============================] - 156s - loss: 0.5995 - acc: 0.7880 - val_loss: 0.8832 - val_acc: 0.7094\n",
      "Epoch 12/20\n",
      "50000/50000 [==============================] - 157s - loss: 0.5758 - acc: 0.7951 - val_loss: 0.9316 - val_acc: 0.6928\n",
      "Epoch 13/20\n",
      "50000/50000 [==============================] - 156s - loss: 0.5491 - acc: 0.8048 - val_loss: 0.9215 - val_acc: 0.7092\n",
      "Epoch 14/20\n",
      "50000/50000 [==============================] - 156s - loss: 0.5241 - acc: 0.8134 - val_loss: 0.9568 - val_acc: 0.6966\n",
      "Epoch 15/20\n",
      "50000/50000 [==============================] - 156s - loss: 0.4974 - acc: 0.8221 - val_loss: 0.9061 - val_acc: 0.7076\n",
      "Epoch 16/20\n",
      "50000/50000 [==============================] - 155s - loss: 0.4749 - acc: 0.8297 - val_loss: 1.0018 - val_acc: 0.6996\n",
      "Epoch 17/20\n",
      "50000/50000 [==============================] - 157s - loss: 0.4562 - acc: 0.8354 - val_loss: 0.9698 - val_acc: 0.7054\n",
      "Epoch 18/20\n",
      "50000/50000 [==============================] - 155s - loss: 0.4308 - acc: 0.8439 - val_loss: 1.0226 - val_acc: 0.7028\n",
      "Epoch 19/20\n",
      "50000/50000 [==============================] - 155s - loss: 0.4198 - acc: 0.8486 - val_loss: 1.0251 - val_acc: 0.7024\n",
      "Epoch 20/20\n",
      "50000/50000 [==============================] - 156s - loss: 0.3936 - acc: 0.8581 - val_loss: 1.0832 - val_acc: 0.7058\n",
      "10000/10000 [==============================] - 8s     \n",
      "Train on 50000 samples, validate on 10000 samples\n",
      "Epoch 1/20\n",
      "50000/50000 [==============================] - 155s - loss: 1.6004 - acc: 0.4135 - val_loss: 1.3774 - val_acc: 0.4960\n",
      "Epoch 2/20\n",
      "50000/50000 [==============================] - 153s - loss: 1.2413 - acc: 0.5560 - val_loss: 1.1723 - val_acc: 0.5818\n",
      "Epoch 3/20\n",
      "50000/50000 [==============================] - 154s - loss: 1.0911 - acc: 0.6120 - val_loss: 1.1028 - val_acc: 0.6084\n",
      "Epoch 4/20\n",
      "50000/50000 [==============================] - 153s - loss: 0.9900 - acc: 0.6509 - val_loss: 1.0169 - val_acc: 0.6453\n",
      "Epoch 5/20\n",
      "50000/50000 [==============================] - 153s - loss: 0.9154 - acc: 0.6757 - val_loss: 0.9862 - val_acc: 0.6578\n",
      "Epoch 6/20\n",
      "50000/50000 [==============================] - 154s - loss: 0.8604 - acc: 0.6981 - val_loss: 0.9343 - val_acc: 0.6759\n",
      "Epoch 7/20\n",
      "50000/50000 [==============================] - 154s - loss: 0.8081 - acc: 0.7153 - val_loss: 0.9110 - val_acc: 0.6803\n",
      "Epoch 8/20\n",
      "50000/50000 [==============================] - 155s - loss: 0.7696 - acc: 0.7288 - val_loss: 0.8945 - val_acc: 0.6950\n",
      "Epoch 9/20\n",
      "50000/50000 [==============================] - 154s - loss: 0.7338 - acc: 0.7411 - val_loss: 0.8859 - val_acc: 0.6953\n",
      "Epoch 10/20\n",
      "50000/50000 [==============================] - 154s - loss: 0.7038 - acc: 0.7526 - val_loss: 0.8842 - val_acc: 0.6994\n",
      "Epoch 11/20\n",
      "50000/50000 [==============================] - 154s - loss: 0.6740 - acc: 0.7625 - val_loss: 0.8795 - val_acc: 0.6952\n",
      "Epoch 12/20\n",
      "50000/50000 [==============================] - 155s - loss: 0.6440 - acc: 0.7720 - val_loss: 0.8655 - val_acc: 0.7004\n",
      "Epoch 13/20\n",
      "50000/50000 [==============================] - 155s - loss: 0.6173 - acc: 0.7812 - val_loss: 0.8489 - val_acc: 0.7135\n",
      "Epoch 14/20\n",
      "50000/50000 [==============================] - 154s - loss: 0.5961 - acc: 0.7884 - val_loss: 0.8741 - val_acc: 0.7066\n",
      "Epoch 15/20\n",
      "50000/50000 [==============================] - 155s - loss: 0.5730 - acc: 0.7968 - val_loss: 0.8874 - val_acc: 0.7084\n",
      "Epoch 16/20\n",
      "50000/50000 [==============================] - 155s - loss: 0.5554 - acc: 0.8022 - val_loss: 0.8556 - val_acc: 0.7149\n",
      "Epoch 17/20\n",
      "50000/50000 [==============================] - 155s - loss: 0.5307 - acc: 0.8122 - val_loss: 0.8829 - val_acc: 0.7175\n",
      "Epoch 18/20\n",
      "50000/50000 [==============================] - 153s - loss: 0.5096 - acc: 0.8204 - val_loss: 0.8609 - val_acc: 0.7222\n",
      "10000/10000 [==============================] - 8s     \n",
      "Train on 50000 samples, validate on 10000 samples\n",
      "Epoch 1/20\n",
      "50000/50000 [==============================] - 158s - loss: 1.5426 - acc: 0.4332 - val_loss: 1.2516 - val_acc: 0.5436\n",
      "Epoch 2/20\n",
      "50000/50000 [==============================] - 158s - loss: 1.1973 - acc: 0.5693 - val_loss: 1.1824 - val_acc: 0.5791\n",
      "Epoch 3/20\n",
      "50000/50000 [==============================] - 158s - loss: 1.0512 - acc: 0.6249 - val_loss: 1.0310 - val_acc: 0.6347\n",
      "Epoch 4/20\n",
      "50000/50000 [==============================] - 158s - loss: 0.9614 - acc: 0.6567 - val_loss: 0.9390 - val_acc: 0.6733\n",
      "Epoch 5/20\n",
      "50000/50000 [==============================] - 157s - loss: 0.8936 - acc: 0.6812 - val_loss: 0.9175 - val_acc: 0.6767\n",
      "Epoch 6/20\n",
      "50000/50000 [==============================] - 158s - loss: 0.8299 - acc: 0.7062 - val_loss: 0.9202 - val_acc: 0.6820\n",
      "Epoch 7/20\n",
      "50000/50000 [==============================] - 159s - loss: 0.7841 - acc: 0.7225 - val_loss: 0.9071 - val_acc: 0.6903\n",
      "Epoch 8/20\n",
      "50000/50000 [==============================] - 156s - loss: 0.7360 - acc: 0.7410 - val_loss: 0.8606 - val_acc: 0.7065\n",
      "Epoch 9/20\n",
      "50000/50000 [==============================] - 158s - loss: 0.6994 - acc: 0.7524 - val_loss: 0.8875 - val_acc: 0.6896\n",
      "Epoch 10/20\n",
      "50000/50000 [==============================] - 158s - loss: 0.6632 - acc: 0.7631 - val_loss: 0.8635 - val_acc: 0.7085\n",
      "Epoch 11/20\n",
      "50000/50000 [==============================] - 156s - loss: 0.6283 - acc: 0.7769 - val_loss: 0.8787 - val_acc: 0.7098\n",
      "Epoch 12/20\n",
      "50000/50000 [==============================] - 157s - loss: 0.5984 - acc: 0.7867 - val_loss: 0.8584 - val_acc: 0.7131\n",
      "Epoch 13/20\n",
      "50000/50000 [==============================] - 158s - loss: 0.5654 - acc: 0.7973 - val_loss: 0.8872 - val_acc: 0.7127\n",
      "Epoch 14/20\n",
      "50000/50000 [==============================] - 158s - loss: 0.5347 - acc: 0.8071 - val_loss: 0.9340 - val_acc: 0.7029\n",
      "Epoch 15/20\n",
      "50000/50000 [==============================] - 156s - loss: 0.5086 - acc: 0.8162 - val_loss: 0.9658 - val_acc: 0.6978\n",
      "Epoch 16/20\n",
      "50000/50000 [==============================] - 158s - loss: 0.4834 - acc: 0.8279 - val_loss: 0.9049 - val_acc: 0.7138\n",
      "Epoch 17/20\n",
      "50000/50000 [==============================] - 158s - loss: 0.4591 - acc: 0.8340 - val_loss: 0.9444 - val_acc: 0.7123\n",
      "Epoch 18/20\n",
      "50000/50000 [==============================] - 156s - loss: 0.4369 - acc: 0.8430 - val_loss: 0.9713 - val_acc: 0.7109\n",
      "Epoch 19/20\n",
      "50000/50000 [==============================] - 155s - loss: 0.4159 - acc: 0.8494 - val_loss: 1.0560 - val_acc: 0.6989\n",
      "Epoch 20/20\n",
      "50000/50000 [==============================] - 156s - loss: 0.4007 - acc: 0.8535 - val_loss: 1.0843 - val_acc: 0.7012\n",
      "10000/10000 [==============================] - 8s     \n",
      "Train on 50000 samples, validate on 10000 samples\n",
      "Epoch 1/20\n",
      "50000/50000 [==============================] - 154s - loss: 1.5706 - acc: 0.4253 - val_loss: 1.3544 - val_acc: 0.5123\n",
      "Epoch 2/20\n",
      "50000/50000 [==============================] - 153s - loss: 1.2429 - acc: 0.5525 - val_loss: 1.1747 - val_acc: 0.5808\n",
      "Epoch 3/20\n",
      "50000/50000 [==============================] - 153s - loss: 1.1022 - acc: 0.6065 - val_loss: 1.0833 - val_acc: 0.6133\n",
      "Epoch 4/20\n",
      "50000/50000 [==============================] - 154s - loss: 1.0009 - acc: 0.6452 - val_loss: 0.9905 - val_acc: 0.6523\n",
      "Epoch 5/20\n",
      "50000/50000 [==============================] - 154s - loss: 0.9268 - acc: 0.6707 - val_loss: 0.9371 - val_acc: 0.6722\n",
      "Epoch 6/20\n",
      "50000/50000 [==============================] - 153s - loss: 0.8739 - acc: 0.6923 - val_loss: 0.9145 - val_acc: 0.6871\n",
      "Epoch 7/20\n",
      "50000/50000 [==============================] - 161s - loss: 0.8305 - acc: 0.7077 - val_loss: 0.8990 - val_acc: 0.6897\n",
      "Epoch 8/20\n",
      "50000/50000 [==============================] - 154s - loss: 0.7802 - acc: 0.7263 - val_loss: 0.8573 - val_acc: 0.7074\n",
      "Epoch 9/20\n",
      "50000/50000 [==============================] - 156s - loss: 0.7491 - acc: 0.7406 - val_loss: 0.8580 - val_acc: 0.7062\n",
      "Epoch 10/20\n",
      "50000/50000 [==============================] - 155s - loss: 0.7117 - acc: 0.7502 - val_loss: 0.8646 - val_acc: 0.7080\n",
      "Epoch 11/20\n",
      "50000/50000 [==============================] - 154s - loss: 0.6844 - acc: 0.7604 - val_loss: 0.9241 - val_acc: 0.6892\n",
      "Epoch 12/20\n",
      "50000/50000 [==============================] - 155s - loss: 0.6560 - acc: 0.7698 - val_loss: 0.8193 - val_acc: 0.7209\n",
      "Epoch 13/20\n",
      "50000/50000 [==============================] - 155s - loss: 0.6291 - acc: 0.7780 - val_loss: 0.8196 - val_acc: 0.7207\n",
      "Epoch 14/20\n",
      "50000/50000 [==============================] - 155s - loss: 0.6082 - acc: 0.7858 - val_loss: 0.8124 - val_acc: 0.7282\n",
      "Epoch 15/20\n",
      "50000/50000 [==============================] - 155s - loss: 0.5801 - acc: 0.7957 - val_loss: 0.9243 - val_acc: 0.6990\n",
      "Epoch 16/20\n",
      "50000/50000 [==============================] - 156s - loss: 0.5579 - acc: 0.8037 - val_loss: 0.8521 - val_acc: 0.7176\n",
      "Epoch 17/20\n",
      "50000/50000 [==============================] - 155s - loss: 0.5380 - acc: 0.8087 - val_loss: 0.8609 - val_acc: 0.7241\n",
      "Epoch 18/20\n",
      "50000/50000 [==============================] - 156s - loss: 0.5188 - acc: 0.8155 - val_loss: 0.8437 - val_acc: 0.7212\n",
      "Epoch 19/20\n",
      "50000/50000 [==============================] - 156s - loss: 0.5010 - acc: 0.8231 - val_loss: 0.8514 - val_acc: 0.7252\n",
      "10000/10000 [==============================] - 8s     \n",
      "Train on 50000 samples, validate on 10000 samples\n",
      "Epoch 1/20\n",
      "50000/50000 [==============================] - 171s - loss: 1.5368 - acc: 0.4351 - val_loss: 1.2642 - val_acc: 0.5417\n",
      "Epoch 2/20\n",
      "50000/50000 [==============================] - 163s - loss: 1.1641 - acc: 0.5829 - val_loss: 1.1484 - val_acc: 0.5969\n",
      "Epoch 3/20\n",
      "50000/50000 [==============================] - 159s - loss: 1.0147 - acc: 0.6383 - val_loss: 1.0772 - val_acc: 0.6096\n",
      "Epoch 4/20\n",
      "50000/50000 [==============================] - 158s - loss: 0.9249 - acc: 0.6712 - val_loss: 0.9232 - val_acc: 0.6699\n",
      "Epoch 5/20\n",
      "50000/50000 [==============================] - 160s - loss: 0.8509 - acc: 0.6988 - val_loss: 0.9773 - val_acc: 0.6554\n",
      "Epoch 6/20\n",
      "50000/50000 [==============================] - 159s - loss: 0.7945 - acc: 0.7184 - val_loss: 0.8936 - val_acc: 0.6873\n",
      "Epoch 7/20\n",
      "50000/50000 [==============================] - 158s - loss: 0.7441 - acc: 0.7353 - val_loss: 0.8851 - val_acc: 0.6902\n",
      "Epoch 8/20\n",
      "50000/50000 [==============================] - 159s - loss: 0.7058 - acc: 0.7485 - val_loss: 0.8973 - val_acc: 0.6916\n",
      "Epoch 9/20\n",
      "50000/50000 [==============================] - 157s - loss: 0.6607 - acc: 0.7652 - val_loss: 0.9055 - val_acc: 0.6902\n",
      "Epoch 10/20\n",
      "50000/50000 [==============================] - 158s - loss: 0.6280 - acc: 0.7772 - val_loss: 0.9045 - val_acc: 0.6956\n",
      "Epoch 11/20\n",
      "50000/50000 [==============================] - 158s - loss: 0.5964 - acc: 0.7857 - val_loss: 0.8941 - val_acc: 0.6962\n",
      "Epoch 12/20\n",
      "50000/50000 [==============================] - 159s - loss: 0.5646 - acc: 0.7977 - val_loss: 0.8838 - val_acc: 0.7116\n",
      "Epoch 13/20\n",
      "50000/50000 [==============================] - 158s - loss: 0.5347 - acc: 0.8096 - val_loss: 0.9423 - val_acc: 0.7018\n",
      "Epoch 14/20\n",
      "50000/50000 [==============================] - 159s - loss: 0.5056 - acc: 0.8193 - val_loss: 0.9646 - val_acc: 0.6888\n",
      "Epoch 15/20\n",
      "50000/50000 [==============================] - 157s - loss: 0.4826 - acc: 0.8263 - val_loss: 0.9549 - val_acc: 0.6985\n",
      "Epoch 16/20\n",
      "50000/50000 [==============================] - 158s - loss: 0.4588 - acc: 0.8338 - val_loss: 0.9761 - val_acc: 0.7060\n",
      "Epoch 17/20\n",
      "50000/50000 [==============================] - 159s - loss: 0.4329 - acc: 0.8453 - val_loss: 1.0170 - val_acc: 0.7052\n",
      "Epoch 18/20\n",
      "50000/50000 [==============================] - 158s - loss: 0.4060 - acc: 0.8552 - val_loss: 1.0377 - val_acc: 0.7001\n",
      "Epoch 19/20\n",
      "50000/50000 [==============================] - 159s - loss: 0.3885 - acc: 0.8578 - val_loss: 1.1014 - val_acc: 0.6938\n",
      "Epoch 20/20\n",
      "50000/50000 [==============================] - 161s - loss: 0.3669 - acc: 0.8671 - val_loss: 1.1172 - val_acc: 0.6983\n",
      "10000/10000 [==============================] - 8s     \n",
      "Train on 50000 samples, validate on 10000 samples\n",
      "Epoch 1/20\n",
      "50000/50000 [==============================] - 156s - loss: 1.5908 - acc: 0.4183 - val_loss: 1.3738 - val_acc: 0.5005\n",
      "Epoch 2/20\n",
      "50000/50000 [==============================] - 157s - loss: 1.2366 - acc: 0.5541 - val_loss: 1.1926 - val_acc: 0.5701\n",
      "Epoch 3/20\n",
      "50000/50000 [==============================] - 158s - loss: 1.0880 - acc: 0.6112 - val_loss: 1.0597 - val_acc: 0.6289\n",
      "Epoch 4/20\n",
      "50000/50000 [==============================] - 159s - loss: 0.9905 - acc: 0.6500 - val_loss: 1.0763 - val_acc: 0.6260\n",
      "Epoch 5/20\n",
      "50000/50000 [==============================] - 158s - loss: 0.9189 - acc: 0.6737 - val_loss: 0.9232 - val_acc: 0.6714\n",
      "Epoch 6/20\n",
      "50000/50000 [==============================] - 157s - loss: 0.8656 - acc: 0.6948 - val_loss: 0.9049 - val_acc: 0.6816\n",
      "Epoch 7/20\n",
      "50000/50000 [==============================] - 159s - loss: 0.8219 - acc: 0.7101 - val_loss: 0.8819 - val_acc: 0.6955\n",
      "Epoch 8/20\n",
      "50000/50000 [==============================] - 158s - loss: 0.7814 - acc: 0.7244 - val_loss: 0.8855 - val_acc: 0.6929\n",
      "Epoch 9/20\n",
      "50000/50000 [==============================] - 159s - loss: 0.7500 - acc: 0.7357 - val_loss: 0.8654 - val_acc: 0.7006\n",
      "Epoch 10/20\n",
      "50000/50000 [==============================] - 159s - loss: 0.7146 - acc: 0.7490 - val_loss: 0.8724 - val_acc: 0.7008\n",
      "Epoch 11/20\n",
      "50000/50000 [==============================] - 160s - loss: 0.6870 - acc: 0.7565 - val_loss: 0.8279 - val_acc: 0.7106\n",
      "Epoch 12/20\n",
      "50000/50000 [==============================] - 158s - loss: 0.6599 - acc: 0.7678 - val_loss: 0.8252 - val_acc: 0.7196\n",
      "Epoch 13/20\n",
      "50000/50000 [==============================] - 159s - loss: 0.6356 - acc: 0.7771 - val_loss: 0.8512 - val_acc: 0.7101\n",
      "Epoch 14/20\n",
      "50000/50000 [==============================] - 159s - loss: 0.6158 - acc: 0.7837 - val_loss: 0.8536 - val_acc: 0.7083\n",
      "Epoch 15/20\n",
      "50000/50000 [==============================] - 161s - loss: 0.5953 - acc: 0.7920 - val_loss: 0.8222 - val_acc: 0.7240\n",
      "Epoch 16/20\n",
      "50000/50000 [==============================] - 161s - loss: 0.5696 - acc: 0.7982 - val_loss: 0.8405 - val_acc: 0.7142\n",
      "Epoch 17/20\n",
      "50000/50000 [==============================] - 159s - loss: 0.5514 - acc: 0.8047 - val_loss: 0.8546 - val_acc: 0.7189\n",
      "Epoch 18/20\n",
      "50000/50000 [==============================] - 160s - loss: 0.5313 - acc: 0.8119 - val_loss: 0.8607 - val_acc: 0.7164\n",
      "Epoch 19/20\n",
      "50000/50000 [==============================] - 162s - loss: 0.5130 - acc: 0.8183 - val_loss: 0.8329 - val_acc: 0.7232\n",
      "Epoch 20/20\n",
      "50000/50000 [==============================] - 159s - loss: 0.5028 - acc: 0.8227 - val_loss: 0.8386 - val_acc: 0.7233\n",
      "10000/10000 [==============================] - 8s     \n"
     ]
    }
   ],
   "source": [
    "#Accuracy score list\n",
    "acc_benchmark=[]\n",
    "acc_final=[]\n",
    "count=0\n",
    "nb_classes=10\n",
    "for train_index,test_index in kf:\n",
    "    X_train2,X_test2=X[train_index],X[test_index]\n",
    "    if count==0:\n",
    "        #Change Y into one-hot vector(the process is run only once)\n",
    "        Y = np_utils.to_categorical(Y, nb_classes)\n",
    "    Y_train2,Y_test2=Y[train_index],Y[test_index]\n",
    "    benchmark(X_train2,X_test2,Y_train2,Y_test2)\n",
    "    final_model(X_train2,X_test2,Y_train2,Y_test2)\n",
    "    count+=1"
   ]
  },
  {
   "cell_type": "code",
   "execution_count": 395,
   "metadata": {
    "collapsed": false
   },
   "outputs": [
    {
     "data": {
      "text/plain": [
       "<matplotlib.legend.Legend at 0x117eaae90>"
      ]
     },
     "execution_count": 395,
     "metadata": {},
     "output_type": "execute_result"
    },
    {
     "data": {
      "image/png": "[encoded data removed]",
      "text/plain": [
       "<matplotlib.figure.Figure at 0x15940a550>"
      ]
     },
     "metadata": {},
     "output_type": "display_data"
    }
   ],
   "source": [
    "#Plot the accuracy score\n",
    "plt.plot(range(1,7),acc_final,c=\"r\",label=\"Final model\")\n",
    "plt.plot(range(1,7),acc_benchmark,c=\"b\",label=\"Benchmark model\")\n",
    "plt.scatter(range(1,7),acc_final,c=\"r\")\n",
    "plt.scatter(range(1,7),acc_benchmark,c=\"b\")\n",
    "plt.xlim(1,6)\n",
    "plt.xlabel(\"Number of Trial\",fontsize=15)\n",
    "plt.ylabel(\"Accuracy Score\",fontsize=15)\n",
    "plt.xticks(fontsize=15)\n",
    "plt.yticks(fontsize=15)\n",
    "plt.legend(loc=\"best\",fontsize=14)"
   ]
  }
 ],
 "metadata": {
  "hide_input": false,
  "kernelspec": {
   "display_name": "Python 2",
   "language": "python",
   "name": "python2"
  },
  "language_info": {
   "codemirror_mode": {
    "name": "ipython",
    "version": 2
   },
   "file_extension": ".py",
   "mimetype": "text/x-python",
   "name": "python",
   "nbconvert_exporter": "python",
   "pygments_lexer": "ipython2",
   "version": "2.7.6"
  },
  "latex_envs": {
   "bibliofile": "biblio.bib",
   "cite_by": "key",
   "current_citInitial": 1,
   "eqLabelWithNumbers": false,
   "eqNumInitial": 0
  },
  "nav_menu": {},
  "toc": {
   "navigate_menu": true,
   "number_sections": true,
   "sideBar": true,
   "threshold": 6,
   "toc_cell": false,
   "toc_section_display": "block",
   "toc_window_display": false
  }
 },
 "nbformat": 4,
 "nbformat_minor": 0
}
